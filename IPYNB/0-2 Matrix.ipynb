{
 "cells": [
  {
   "cell_type": "markdown",
   "metadata": {},
   "source": [
    "#### 矩阵\n",
    "\n",
    "+ 定义矩阵\n",
    "+ 矩阵乘法"
   ]
  },
  {
   "cell_type": "code",
   "execution_count": 25,
   "metadata": {},
   "outputs": [
    {
     "name": "stdout",
     "output_type": "stream",
     "text": [
      "A:\n",
      " [[ 5  6]\n",
      " [ 9 10]\n",
      " [ 7  8]]\n",
      "B:\n",
      " [[5 6 7 8]\n",
      " [1 2 3 4]]\n",
      "\n",
      "A*B:\n",
      " [[ 31  42  53  64]\n",
      " [ 55  74  93 112]\n",
      " [ 43  58  73  88]]\n"
     ]
    }
   ],
   "source": [
    "import numpy as np\n",
    "\n",
    "A = np.array([[5,6],[9,10],[7,8]])\n",
    "B = np.array([[5,6,7,8],[1,2,3,4]])\n",
    "C = np.matmul(A,B)\n",
    "\n",
    "print(\"A:\\n\", A)\n",
    "print(\"B:\\n\", B)\n",
    "print(\"\\nA*B:\\n\", C)"
   ]
  },
  {
   "cell_type": "markdown",
   "metadata": {},
   "source": [
    "**矩阵操作**\n",
    "\n",
    "+ 取矩阵的一行\n",
    "+ 取矩阵的一列\n",
    "+ 取矩阵的一部分"
   ]
  },
  {
   "cell_type": "code",
   "execution_count": 28,
   "metadata": {},
   "outputs": [
    {
     "name": "stdout",
     "output_type": "stream",
     "text": [
      "C:\n",
      " [[ 31  42  53  64]\n",
      " [ 55  74  93 112]\n",
      " [ 43  58  73  88]]\n",
      "\n",
      "Row 1 of C:\n",
      " [ 55  74  93 112]\n",
      "Column 2 of C:\n",
      " [53 93 73]\n",
      "Part of C:\n",
      " [[ 74  93 112]\n",
      " [ 58  73  88]]\n",
      "Column 0&2 of C:\n",
      " [[31 53]\n",
      " [55 93]\n",
      " [43 73]]\n"
     ]
    }
   ],
   "source": [
    "C_row = C[1,:]\n",
    "C_col = C[:,2]\n",
    "C_part = C[1:3,1:]\n",
    "C_part02 = C[:,[0,2]]\n",
    "\n",
    "print(\"C:\\n\", C)\n",
    "print(\"\\nRow 1 of C:\\n\", C_row)\n",
    "print(\"Column 2 of C:\\n\", C_col)\n",
    "print(\"Part of C:\\n\", C_part)\n",
    "print(\"Column 0&2 of C:\\n\", C_part02)"
   ]
  },
  {
   "cell_type": "markdown",
   "metadata": {},
   "source": [
    "**矩阵操作**\n",
    "+ 矩阵添加一列\n",
    "+ 矩阵按行求和\n",
    "+ 矩阵按列求和"
   ]
  },
  {
   "cell_type": "code",
   "execution_count": 27,
   "metadata": {},
   "outputs": [
    {
     "name": "stdout",
     "output_type": "stream",
     "text": [
      "C:\n",
      " [[ 31  42  53  64]\n",
      " [ 55  74  93 112]\n",
      " [ 43  58  73  88]]\n",
      "Expanded C:\n",
      " [[ 31  42  53  64   1]\n",
      " [ 55  74  93 112   1]\n",
      " [ 43  58  73  88   1]]\n",
      "\n",
      "Sum of Rows: [190 334 262]\n",
      "Sum of Columns: [129 174 219 264]\n"
     ]
    }
   ],
   "source": [
    "C_expand = np.concatenate([C,np.ones([3,1],dtype=int)],axis=1)\n",
    "\n",
    "print(\"C:\\n\", C)\n",
    "print(\"Expanded C:\\n\", C_expand)\n",
    "print(\"\\nSum of Rows:\", C.sum(axis=1))\n",
    "print(\"Sum of Columns:\", C.sum(axis=0))"
   ]
  }
 ],
 "metadata": {
  "kernelspec": {
   "display_name": "Python 3.8.7 64-bit",
   "language": "python",
   "name": "python3"
  },
  "language_info": {
   "codemirror_mode": {
    "name": "ipython",
    "version": 3
   },
   "file_extension": ".py",
   "mimetype": "text/x-python",
   "name": "python",
   "nbconvert_exporter": "python",
   "pygments_lexer": "ipython3",
   "version": "3.8.7"
  },
  "orig_nbformat": 4,
  "vscode": {
   "interpreter": {
    "hash": "e0144baad0ecee903f108a3e46e51ceadd7da3fc904cfa79747d813b61464b4e"
   }
  }
 },
 "nbformat": 4,
 "nbformat_minor": 2
}
