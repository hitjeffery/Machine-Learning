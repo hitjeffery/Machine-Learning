{
 "cells": [
  {
   "cell_type": "markdown",
   "metadata": {},
   "source": [
    "#### 猫-狗分类网络的改进：数据增广 ####\n",
    "\n",
    "**图像数据导入为dataset**"
   ]
  },
  {
   "cell_type": "code",
   "execution_count": 1,
   "metadata": {},
   "outputs": [
    {
     "name": "stdout",
     "output_type": "stream",
     "text": [
      "Found 2000 files belonging to 2 classes.\n",
      "Found 1000 files belonging to 2 classes.\n",
      "Found 1000 files belonging to 2 classes.\n"
     ]
    }
   ],
   "source": [
    "from tensorflow.keras.utils import image_dataset_from_directory\n",
    "\n",
    "train_dir = 'cats_and_dogs_small/train'\n",
    "validation_dir = 'cats_and_dogs_small/validation'\n",
    "test_dir = 'cats_and_dogs_small/test'\n",
    "\n",
    "train_dataset = image_dataset_from_directory(train_dir,labels='inferred',image_size=(150,150),batch_size=20,label_mode='binary')\n",
    "validation_dataset = image_dataset_from_directory(validation_dir,labels='inferred',image_size=(150,150),batch_size=20,label_mode='binary')\n",
    "test_dataset = image_dataset_from_directory(test_dir,labels='inferred',image_size=(150,150),batch_size=20,label_mode='binary')"
   ]
  },
  {
   "cell_type": "markdown",
   "metadata": {},
   "source": [
    "**构建数据增广网络**"
   ]
  },
  {
   "cell_type": "code",
   "execution_count": 2,
   "metadata": {},
   "outputs": [
    {
     "name": "stdout",
     "output_type": "stream",
     "text": [
      "Model: \"Data_Augmentation\"\n",
      "_________________________________________________________________\n",
      " Layer (type)                Output Shape              Param #   \n",
      "=================================================================\n",
      " random_rotation (RandomRota  (None, 150, 150, 3)      0         \n",
      " tion)                                                           \n",
      "                                                                 \n",
      " random_flip (RandomFlip)    (None, 150, 150, 3)       0         \n",
      "                                                                 \n",
      " random_zoom (RandomZoom)    (None, 150, 150, 3)       0         \n",
      "                                                                 \n",
      "=================================================================\n",
      "Total params: 0\n",
      "Trainable params: 0\n",
      "Non-trainable params: 0\n",
      "_________________________________________________________________\n"
     ]
    }
   ],
   "source": [
    "from tensorflow.keras import layers\n",
    "from tensorflow.keras import models\n",
    "\n",
    "data_augmentation = models.Sequential(name='Data_Augmentation')\n",
    "data_augmentation.add(layers.Input(shape=(150,150,3)))\n",
    "data_augmentation.add(layers.RandomRotation(factor=(-0.12,+0.12)))\n",
    "data_augmentation.add(layers.RandomFlip(mode='horizontal'))\n",
    "data_augmentation.add(layers.RandomZoom(height_factor=(-0.2, 0.2)))\n",
    "\n",
    "data_augmentation.summary()"
   ]
  },
  {
   "cell_type": "markdown",
   "metadata": {},
   "source": [
    "**构建分类网络**\n",
    "+ 将数据增广网络作为预处理层加入卷积神经网络\n",
    "+ 增加一个Rescaling层，将图像像素变换到$[0,1]$"
   ]
  },
  {
   "cell_type": "code",
   "execution_count": 3,
   "metadata": {},
   "outputs": [
    {
     "name": "stdout",
     "output_type": "stream",
     "text": [
      "Model: \"sequential\"\n",
      "_________________________________________________________________\n",
      " Layer (type)                Output Shape              Param #   \n",
      "=================================================================\n",
      " Data_Augmentation (Sequenti  (None, 150, 150, 3)      0         \n",
      " al)                                                             \n",
      "                                                                 \n",
      " rescaling (Rescaling)       (None, 150, 150, 3)       0         \n",
      "                                                                 \n",
      " conv2d (Conv2D)             (None, 148, 148, 32)      896       \n",
      "                                                                 \n",
      " max_pooling2d (MaxPooling2D  (None, 74, 74, 32)       0         \n",
      " )                                                               \n",
      "                                                                 \n",
      " conv2d_1 (Conv2D)           (None, 72, 72, 64)        18496     \n",
      "                                                                 \n",
      " max_pooling2d_1 (MaxPooling  (None, 36, 36, 64)       0         \n",
      " 2D)                                                             \n",
      "                                                                 \n",
      " conv2d_2 (Conv2D)           (None, 34, 34, 128)       73856     \n",
      "                                                                 \n",
      " max_pooling2d_2 (MaxPooling  (None, 17, 17, 128)      0         \n",
      " 2D)                                                             \n",
      "                                                                 \n",
      " conv2d_3 (Conv2D)           (None, 15, 15, 128)       147584    \n",
      "                                                                 \n",
      " max_pooling2d_3 (MaxPooling  (None, 7, 7, 128)        0         \n",
      " 2D)                                                             \n",
      "                                                                 \n",
      " flatten (Flatten)           (None, 6272)              0         \n",
      "                                                                 \n",
      " dense (Dense)               (None, 512)               3211776   \n",
      "                                                                 \n",
      " dense_1 (Dense)             (None, 1)                 513       \n",
      "                                                                 \n",
      "=================================================================\n",
      "Total params: 3,453,121\n",
      "Trainable params: 3,453,121\n",
      "Non-trainable params: 0\n",
      "_________________________________________________________________\n"
     ]
    }
   ],
   "source": [
    "from tensorflow.keras import layers\n",
    "from tensorflow.keras import models\n",
    "\n",
    "network = models.Sequential()\n",
    "network.add(layers.Input(shape=(150,150,3)))\n",
    "network.add(data_augmentation)\n",
    "network.add(layers.Rescaling(1./255))\n",
    "network.add(layers.Conv2D(32, (3, 3), activation='relu'))\n",
    "network.add(layers.MaxPooling2D((2, 2)))\n",
    "network.add(layers.Conv2D(64, (3, 3), activation='relu'))\n",
    "network.add(layers.MaxPooling2D((2, 2)))\n",
    "network.add(layers.Conv2D(128, (3, 3), activation='relu'))\n",
    "network.add(layers.MaxPooling2D((2, 2)))\n",
    "network.add(layers.Conv2D(128, (3, 3), activation='relu'))\n",
    "network.add(layers.MaxPooling2D((2, 2)))\n",
    "network.add(layers.Flatten())\n",
    "network.add(layers.Dense(512, activation='relu'))\n",
    "network.add(layers.Dense(1, activation='sigmoid'))\n",
    "\n",
    "network.summary()"
   ]
  },
  {
   "cell_type": "markdown",
   "metadata": {},
   "source": [
    "**学习网络**\n",
    "+ 优化算法：RMSprop，学习率$0.0001$\n",
    "+ 损失函数：binary_crossentropy\n",
    "+ 以分类正确率作为度量指标\n",
    "+ 学习30个回合，每个回合迭代100个batch，每个batch为20个训练样本\n",
    "+ 学习样本为训练集dataset\n",
    "+ 验证集dataset仅作为观察数据，每50次迭代观察一次"
   ]
  },
  {
   "cell_type": "code",
   "execution_count": 4,
   "metadata": {},
   "outputs": [
    {
     "name": "stdout",
     "output_type": "stream",
     "text": [
      "Epoch 1/30\n",
      "100/100 [==============================] - 9s 50ms/step - loss: 0.6928 - acc: 0.5340 - val_loss: 0.6749 - val_acc: 0.5580\n",
      "Epoch 2/30\n",
      "100/100 [==============================] - 5s 53ms/step - loss: 0.6687 - acc: 0.5975 - val_loss: 0.6640 - val_acc: 0.5940\n",
      "Epoch 3/30\n",
      "100/100 [==============================] - 5s 51ms/step - loss: 0.6438 - acc: 0.6320 - val_loss: 0.6165 - val_acc: 0.6610\n",
      "Epoch 4/30\n",
      "100/100 [==============================] - 5s 51ms/step - loss: 0.6115 - acc: 0.6760 - val_loss: 0.6005 - val_acc: 0.6860\n",
      "Epoch 5/30\n",
      "100/100 [==============================] - 5s 50ms/step - loss: 0.6002 - acc: 0.6750 - val_loss: 0.6162 - val_acc: 0.6430\n",
      "Epoch 6/30\n",
      "100/100 [==============================] - 5s 50ms/step - loss: 0.5841 - acc: 0.6915 - val_loss: 0.6020 - val_acc: 0.6610\n",
      "Epoch 7/30\n",
      "100/100 [==============================] - 5s 50ms/step - loss: 0.5747 - acc: 0.6980 - val_loss: 0.6069 - val_acc: 0.6610\n",
      "Epoch 8/30\n",
      "100/100 [==============================] - 5s 51ms/step - loss: 0.5772 - acc: 0.6905 - val_loss: 0.5545 - val_acc: 0.7030\n",
      "Epoch 9/30\n",
      "100/100 [==============================] - 5s 50ms/step - loss: 0.5532 - acc: 0.7155 - val_loss: 0.5567 - val_acc: 0.7080\n",
      "Epoch 10/30\n",
      "100/100 [==============================] - 5s 50ms/step - loss: 0.5468 - acc: 0.7240 - val_loss: 0.5393 - val_acc: 0.7230\n",
      "Epoch 11/30\n",
      "100/100 [==============================] - 5s 50ms/step - loss: 0.5369 - acc: 0.7270 - val_loss: 0.5438 - val_acc: 0.7130\n",
      "Epoch 12/30\n",
      "100/100 [==============================] - 5s 50ms/step - loss: 0.5337 - acc: 0.7320 - val_loss: 0.5286 - val_acc: 0.7200\n",
      "Epoch 13/30\n",
      "100/100 [==============================] - 5s 50ms/step - loss: 0.5190 - acc: 0.7395 - val_loss: 0.5421 - val_acc: 0.7150\n",
      "Epoch 14/30\n",
      "100/100 [==============================] - 5s 50ms/step - loss: 0.5188 - acc: 0.7440 - val_loss: 0.5784 - val_acc: 0.6970\n",
      "Epoch 15/30\n",
      "100/100 [==============================] - 5s 50ms/step - loss: 0.5057 - acc: 0.7645 - val_loss: 0.5148 - val_acc: 0.7350\n",
      "Epoch 16/30\n",
      "100/100 [==============================] - 5s 51ms/step - loss: 0.5029 - acc: 0.7580 - val_loss: 0.5236 - val_acc: 0.7320\n",
      "Epoch 17/30\n",
      "100/100 [==============================] - 5s 50ms/step - loss: 0.4967 - acc: 0.7640 - val_loss: 0.6064 - val_acc: 0.6940\n",
      "Epoch 18/30\n",
      "100/100 [==============================] - 5s 50ms/step - loss: 0.4933 - acc: 0.7585 - val_loss: 0.5240 - val_acc: 0.7400\n",
      "Epoch 19/30\n",
      "100/100 [==============================] - 5s 50ms/step - loss: 0.4793 - acc: 0.7735 - val_loss: 0.5260 - val_acc: 0.7350\n",
      "Epoch 20/30\n",
      "100/100 [==============================] - 5s 50ms/step - loss: 0.4783 - acc: 0.7715 - val_loss: 0.5134 - val_acc: 0.7490\n",
      "Epoch 21/30\n",
      "100/100 [==============================] - 5s 50ms/step - loss: 0.4833 - acc: 0.7725 - val_loss: 0.5651 - val_acc: 0.7190\n",
      "Epoch 22/30\n",
      "100/100 [==============================] - 5s 50ms/step - loss: 0.4635 - acc: 0.7795 - val_loss: 0.5064 - val_acc: 0.7490\n",
      "Epoch 23/30\n",
      "100/100 [==============================] - 5s 51ms/step - loss: 0.4639 - acc: 0.7805 - val_loss: 0.4977 - val_acc: 0.7490\n",
      "Epoch 24/30\n",
      "100/100 [==============================] - 5s 50ms/step - loss: 0.4611 - acc: 0.7775 - val_loss: 0.4921 - val_acc: 0.7500\n",
      "Epoch 25/30\n",
      "100/100 [==============================] - 5s 51ms/step - loss: 0.4593 - acc: 0.7830 - val_loss: 0.5091 - val_acc: 0.7440\n",
      "Epoch 26/30\n",
      "100/100 [==============================] - 5s 51ms/step - loss: 0.4504 - acc: 0.7810 - val_loss: 0.4862 - val_acc: 0.7520\n",
      "Epoch 27/30\n",
      "100/100 [==============================] - 5s 51ms/step - loss: 0.4441 - acc: 0.7890 - val_loss: 0.5168 - val_acc: 0.7470\n",
      "Epoch 28/30\n",
      "100/100 [==============================] - 5s 51ms/step - loss: 0.4503 - acc: 0.7835 - val_loss: 0.5090 - val_acc: 0.7500\n",
      "Epoch 29/30\n",
      "100/100 [==============================] - 5s 51ms/step - loss: 0.4386 - acc: 0.7995 - val_loss: 0.5344 - val_acc: 0.7320\n",
      "Epoch 30/30\n",
      "100/100 [==============================] - 5s 52ms/step - loss: 0.4302 - acc: 0.8075 - val_loss: 0.4914 - val_acc: 0.7720\n"
     ]
    }
   ],
   "source": [
    "from tensorflow.keras import optimizers\n",
    "\n",
    "network.compile(loss='binary_crossentropy',optimizer=optimizers.RMSprop(learning_rate=1e-4),metrics=['acc'])\n",
    "history = network.fit(train_dataset,steps_per_epoch=100,epochs=30, validation_data=validation_dataset,validation_steps=50)"
   ]
  },
  {
   "cell_type": "markdown",
   "metadata": {},
   "source": [
    "**测试网络**\n",
    "+ 分别使用训练集、验证集和测试集评估网络"
   ]
  },
  {
   "cell_type": "code",
   "execution_count": 5,
   "metadata": {},
   "outputs": [
    {
     "name": "stdout",
     "output_type": "stream",
     "text": [
      "100/100 [==============================] - 2s 15ms/step - loss: 0.3651 - acc: 0.8365\n",
      "50/50 [==============================] - 1s 15ms/step - loss: 0.4914 - acc: 0.7720\n",
      "50/50 [==============================] - 1s 15ms/step - loss: 0.5296 - acc: 0.7630\n",
      "\n",
      "Train Accuracy:      0.8364999890327454\n",
      "Validation Accuracy: 0.7720000147819519\n",
      "Test Accuracy:       0.7630000114440918\n"
     ]
    }
   ],
   "source": [
    "train_loss, train_acc = network.evaluate(train_dataset)\n",
    "validation_loss, validation_acc = network.evaluate(validation_dataset)\n",
    "test_loss, test_acc = network.evaluate(test_dataset)\n",
    "\n",
    "print('\\nTrain Accuracy:     ', train_acc)\n",
    "print('Validation Accuracy:', validation_acc)\n",
    "print('Test Accuracy:      ', test_acc)"
   ]
  },
  {
   "cell_type": "markdown",
   "metadata": {},
   "source": [
    "**显示学习过程**"
   ]
  },
  {
   "cell_type": "code",
   "execution_count": 6,
   "metadata": {},
   "outputs": [
    {
     "data": {
      "text/plain": [
       "<matplotlib.legend.Legend at 0x209c94bd810>"
      ]
     },
     "execution_count": 6,
     "metadata": {},
     "output_type": "execute_result"
    },
    {
     "data": {
      "image/png": "[encoded data removed]",
      "text/plain": [
       "<Figure size 432x288 with 1 Axes>"
      ]
     },
     "metadata": {
      "needs_background": "light"
     },
     "output_type": "display_data"
    }
   ],
   "source": [
    "import matplotlib.pyplot as plt\n",
    "\n",
    "acc = history.history['acc']\n",
    "val_acc = history.history['val_acc']\n",
    "\n",
    "epochs = range(1, len(acc) + 1)\n",
    "plt.plot(epochs, acc, 'b', label='Training acc')\n",
    "plt.plot(epochs, val_acc, 'r', label='Validation acc')\n",
    "plt.title('Training and validation accuracy')\n",
    "plt.legend()"
   ]
  }
 ],
 "metadata": {
  "kernelspec": {
   "display_name": "Python 3.8.7 64-bit",
   "language": "python",
   "name": "python3"
  },
  "language_info": {
   "codemirror_mode": {
    "name": "ipython",
    "version": 3
   },
   "file_extension": ".py",
   "mimetype": "text/x-python",
   "name": "python",
   "nbconvert_exporter": "python",
   "pygments_lexer": "ipython3",
   "version": "3.8.7"
  },
  "orig_nbformat": 4,
  "vscode": {
   "interpreter": {
    "hash": "e0144baad0ecee903f108a3e46e51ceadd7da3fc904cfa79747d813b61464b4e"
   }
  }
 },
 "nbformat": 4,
 "nbformat_minor": 2
}
