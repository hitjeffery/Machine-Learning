{
 "cells": [
  {
   "cell_type": "markdown",
   "id": "09456843",
   "metadata": {},
   "source": [
    "### IMDB数据集\n",
    "\n",
    "+ 来自于IMDB网站的电影评论数据\n",
    "+ 两分类问题，正面评论和负面评论\n",
    "+ 评论数据保存在imdb.npz文件中，字典类型数据，内容包括：\n",
    "    - 评论文本：'x_train'和'x_text'\n",
    "    - 评论类别：'y_train'和'y_test'\n",
    "+ 类别：$\\{0,1\\}$\n",
    "+ 文本：以数字方式编码\n",
    "\n",
    "**读取IMDB数据**\n",
    "+ 显示训练集和测试集数据大小\n",
    "+ 显示部分类别标记\n",
    "+ 显示第1篇训练数据的编码文本"
   ]
  },
  {
   "cell_type": "code",
   "execution_count": 13,
   "id": "0cff8be1",
   "metadata": {},
   "outputs": [
    {
     "name": "stdout",
     "output_type": "stream",
     "text": [
      "Train Data: (25000,) Train Labels: (25000,)\n",
      "Test Data: (25000,) Test Labels: (25000,)\n",
      "\n",
      "Part Labels: [1 1 1 1 1 1 1 1 1 1] , Another Part Labels: [0 0 0 0 0 0 0 0 0 0]\n",
      "\n",
      "First review data:\n",
      " [23022, 309, 6, 3, 1069, 209, 9, 2175, 30, 1, 169, 55, 14, 46, 82, 5869, 41, 393, 110, 138, 14, 5359, 58, 4477, 150, 8, 1, 5032, 5948, 482, 69, 5, 261, 12, 23022, 73935, 2003, 6, 73, 2436, 5, 632, 71, 6, 5359, 1, 25279, 5, 2004, 10471, 1, 5941, 1534, 34, 67, 64, 205, 140, 65, 1232, 63526, 21145, 1, 49265, 4, 1, 223, 901, 29, 3024, 69, 4, 1, 5863, 10, 694, 2, 65, 1534, 51, 10, 216, 1, 387, 8, 60, 3, 1472, 3724, 802, 5, 3521, 177, 1, 393, 10, 1238, 14030, 30, 309, 3, 353, 344, 2989, 143, 130, 5, 7804, 28, 4, 126, 5359, 1472, 2375, 5, 23022, 309, 10, 532, 12, 108, 1470, 4, 58, 556, 101, 12, 23022, 309, 6, 227, 4187, 48, 3, 2237, 12, 9, 215]\n"
     ]
    }
   ],
   "source": [
    "import numpy as np\n",
    "\n",
    "imdb_data = np.load('imdb.npz', allow_pickle='True')\n",
    "\n",
    "x_train = imdb_data['x_train']; y_train = imdb_data['y_train']\n",
    "x_test = imdb_data['x_test']; y_test = imdb_data['y_test']\n",
    "\n",
    "print('Train Data:',x_train.shape,'Train Labels:',y_train.shape)\n",
    "print('Test Data:',x_test.shape,'Test Labels:',y_test.shape)\n",
    "\n",
    "print('\\nPart Labels:',y_train[0:10],', Another Part Labels:',y_train[20000:20010])\n",
    "print('\\nFirst review data:\\n', x_train[0])"
   ]
  },
  {
   "cell_type": "markdown",
   "id": "837e6c8c",
   "metadata": {},
   "source": [
    "**编码文本转换**\n",
    "\n",
    "+ 词语-编码字典保存在imdb_word_index.json中\n",
    "+ 读入字典文件\n",
    "+ 转换为编码-词语字典\n",
    "+ 转换第1篇评论为文字形式"
   ]
  },
  {
   "cell_type": "code",
   "execution_count": 14,
   "id": "9440c704",
   "metadata": {},
   "outputs": [
    {
     "name": "stdout",
     "output_type": "stream",
     "text": [
      "Decoded review data:\n",
      " bromwell high is a cartoon comedy it ran at the same time as some other programs about school life such as teachers my 35 years in the teaching profession lead me to believe that bromwell high's satire is much closer to reality than is teachers the scramble to survive financially the insightful students who can see right through their pathetic teachers' pomp the pettiness of the whole situation all remind me of the schools i knew and their students when i saw the episode in which a student repeatedly tried to burn down the school i immediately recalled at high a classic line inspector i'm here to sack one of your teachers student welcome to bromwell high i expect that many adults of my age think that bromwell high is far fetched what a pity that it isn't\n"
     ]
    }
   ],
   "source": [
    "import json\n",
    "\n",
    "with open('imdb_word_index.json') as f:\n",
    "    word_index = json.load(f)\n",
    "\n",
    "index_word = dict((v, k) for k, v in word_index.items())\n",
    "decoded_review = ' '.join([index_word.get(i) for i in x_train[0]])\n",
    "\n",
    "print('Decoded review data:\\n',decoded_review)"
   ]
  }
 ],
 "metadata": {
  "kernelspec": {
   "display_name": "Python 3.8.7 64-bit",
   "language": "python",
   "name": "python3"
  },
  "language_info": {
   "codemirror_mode": {
    "name": "ipython",
    "version": 3
   },
   "file_extension": ".py",
   "mimetype": "text/x-python",
   "name": "python",
   "nbconvert_exporter": "python",
   "pygments_lexer": "ipython3",
   "version": "3.8.7"
  },
  "varInspector": {
   "cols": {
    "lenName": 16,
    "lenType": 16,
    "lenVar": 40
   },
   "kernels_config": {
    "python": {
     "delete_cmd_postfix": "",
     "delete_cmd_prefix": "del ",
     "library": "var_list.py",
     "varRefreshCmd": "print(var_dic_list())"
    },
    "r": {
     "delete_cmd_postfix": ") ",
     "delete_cmd_prefix": "rm(",
     "library": "var_list.r",
     "varRefreshCmd": "cat(var_dic_list()) "
    }
   },
   "types_to_exclude": [
    "module",
    "function",
    "builtin_function_or_method",
    "instance",
    "_Feature"
   ],
   "window_display": false
  },
  "vscode": {
   "interpreter": {
    "hash": "e0144baad0ecee903f108a3e46e51ceadd7da3fc904cfa79747d813b61464b4e"
   }
  }
 },
 "nbformat": 4,
 "nbformat_minor": 5
}
