{
 "cells": [
  {
   "cell_type": "markdown",
   "metadata": {},
   "source": [
    "### House Price数据预测\n",
    "\n",
    "**预测某个地区的房屋价格**\n",
    "+ 数据文件：Boston_Housing.csv\n",
    "+ 原属性\n",
    "    - $x_1$：城镇人均犯罪率\n",
    "    - $x_2$：住宅用地的比例\n",
    "    - $x_3$：非零售客户业务比例\n",
    "    - $x_4$：是否靠近Charles River\n",
    "    - $x_5$：氮氧化物浓度\n",
    "    - $x_6$：住宅平均房间数\n",
    "    - $x_7$：自住单位的比例\n",
    "    - $x_8$：距离5个就业中心的加权距离\n",
    "    - $x_9$：可用高速公路数\n",
    "    - $x_{10}$：税率\n",
    "    - $x_{11}$：学校师生比\n",
    "    - $x_{12}$：黑人居民比例\n",
    "    - $x_{13}$：人口密度\n",
    "+ 预测输出$y$：自有房屋的价值中位数\n",
    "\n",
    "线性预测：\n",
    "    $$ y = \\mathbf{w}^t \\mathbf{x} + b $$\n",
    "伪逆矩阵求解：\n",
    "    $$ \\left[\\begin{matrix}\\mathbf{w}^*\\\\ b \\end{matrix}\\right] = (X^t X)^{-1}X^t \\mathbf{y}$$"
   ]
  },
  {
   "cell_type": "code",
   "execution_count": 1,
   "metadata": {},
   "outputs": [
    {
     "name": "stdout",
     "output_type": "stream",
     "text": [
      "\n",
      "Shape of X: (506, 13)\n",
      "First two rows of X:\n",
      " [[6.3200e-03 1.8000e+01 2.3100e+00 0.0000e+00 5.3800e-01 6.5750e+00\n",
      "  6.5200e+01 4.0900e+00 1.0000e+00 2.9600e+02 1.5300e+01 3.9690e+02\n",
      "  4.9800e+00]\n",
      " [2.7310e-02 0.0000e+00 7.0700e+00 0.0000e+00 4.6900e-01 6.4210e+00\n",
      "  7.8900e+01 4.9671e+00 2.0000e+00 2.4200e+02 1.7800e+01 3.9690e+02\n",
      "  9.1400e+00]]\n",
      "\n",
      "First ten row of y:\n",
      " [[24. ]\n",
      " [21.6]\n",
      " [34.7]\n",
      " [33.4]\n",
      " [36.2]\n",
      " [28.7]\n",
      " [22.9]\n",
      " [27.1]\n",
      " [16.5]\n",
      " [18.9]]\n"
     ]
    }
   ],
   "source": [
    "import pandas as pd\n",
    "import numpy as np\n",
    "\n",
    "data = pd.read_csv(\"Boston_Housing.csv\",header=None,delimiter=r\"\\s+\")\n",
    "\n",
    "X = data.iloc[:,0:13].to_numpy()\n",
    "y = data.iloc[:,13].to_numpy().reshape(-1,1)\n",
    "\n",
    "print(\"\\nShape of X:\", X.shape)\n",
    "print(\"First two rows of X:\\n\", X[0:2,])\n",
    "print(\"\\nFirst ten row of y:\\n\", y[0:10])"
   ]
  },
  {
   "cell_type": "markdown",
   "metadata": {},
   "source": [
    "**线性预测**\n",
    "    $$ y = \\mathbf{w}^t \\mathbf{x} + b $$\n",
    "伪逆矩阵求解：\n",
    "    $$ \\left[\\begin{matrix}\\mathbf{w}^*\\\\ b \\end{matrix}\\right] = (X^t X)^{-1}X^t \\mathbf{y}$$"
   ]
  },
  {
   "cell_type": "code",
   "execution_count": 2,
   "metadata": {},
   "outputs": [
    {
     "name": "stdout",
     "output_type": "stream",
     "text": [
      "   y            predict_y\n",
      " [[24.         30.00384338]\n",
      " [21.6        25.02556238]\n",
      " [34.7        30.56759672]\n",
      " ...\n",
      " [23.9        27.6274261 ]\n",
      " [22.         26.12796681]\n",
      " [11.9        22.34421229]]\n",
      "\n",
      " Score: 0.7406426641094094\n"
     ]
    }
   ],
   "source": [
    "from sklearn.linear_model import LinearRegression\n",
    "\n",
    "LR = LinearRegression()\n",
    "LR.fit(X,y)\n",
    "predict_y = LR.predict(X)\n",
    "\n",
    "print(\"   y            predict_y\\n\", np.append(y,predict_y,axis=1))\n",
    "print(\"\\n Score:\", LR.score(X,y))"
   ]
  },
  {
   "cell_type": "markdown",
   "metadata": {},
   "source": [
    "**属性扩展**\n",
    "\n",
    "+ 扩展属性\n",
    "    - 属性1次项：$x_1,\\cdots,x_{13}$\n",
    "    - 属性2次项：$x_1^2,\\cdots,x_{13}^2$\n",
    "    - 属性2次交叉项：$x_1x_2,x_1x_3,\\cdots,x_{12}x_{13}$\n"
   ]
  },
  {
   "cell_type": "code",
   "execution_count": 3,
   "metadata": {},
   "outputs": [
    {
     "name": "stdout",
     "output_type": "stream",
     "text": [
      "Shape of Extened Features: (506, 104)\n"
     ]
    }
   ],
   "source": [
    "from sklearn.preprocessing import PolynomialFeatures\n",
    "\n",
    "poly = PolynomialFeatures(degree=2,include_bias=False)\n",
    "X_extend = poly.fit_transform(X)\n",
    "\n",
    "print(\"Shape of Extened Features:\", X_extend.shape)"
   ]
  },
  {
   "cell_type": "markdown",
   "metadata": {},
   "source": [
    "**二次函数预测**\n",
    "    $$ y = \\mathbf{w}^t \\mathbf{\\tilde{x}} + b = w_1x_1 + w_2x_2 + \\cdots + w_{13}x_{13} + w_{14}x_1^2 + \\cdots + w_{26}x_{13}^2  + w_{27}x_1x_2 + w_{28}x_1x_3 + \\cdots + w_{104}x_{12}x_{13} + b$$\n",
    "伪逆矩阵求解：\n",
    "    $$ \\left[\\begin{matrix}\\mathbf{w}^*\\\\ b \\end{matrix}\\right] = (\\tilde{X}^t \\tilde{X})^{-1}\\tilde{X}^t \\mathbf{y}$$"
   ]
  },
  {
   "cell_type": "code",
   "execution_count": 4,
   "metadata": {},
   "outputs": [
    {
     "name": "stdout",
     "output_type": "stream",
     "text": [
      "   y           predict_y\n",
      " [[24.         24.7918342 ]\n",
      " [21.6        22.70683946]\n",
      " [34.7        32.63160085]\n",
      " ...\n",
      " [23.9        22.83472267]\n",
      " [22.         20.99475095]\n",
      " [11.9        16.03188822]]\n",
      "\n",
      " Score: 0.9289961714593017\n"
     ]
    }
   ],
   "source": [
    "from sklearn.linear_model import LinearRegression\n",
    "\n",
    "LR = LinearRegression()\n",
    "LR.fit(X_extend,y)\n",
    "predict_y = LR.predict(X_extend)\n",
    "\n",
    "print(\"   y           predict_y\\n\", np.append(y,predict_y,axis=1))\n",
    "print(\"\\n Score:\", LR.score(X_extend,y))"
   ]
  }
 ],
 "metadata": {
  "kernelspec": {
   "display_name": "Python 3.8.7 64-bit",
   "language": "python",
   "name": "python3"
  },
  "language_info": {
   "codemirror_mode": {
    "name": "ipython",
    "version": 3
   },
   "file_extension": ".py",
   "mimetype": "text/x-python",
   "name": "python",
   "nbconvert_exporter": "python",
   "pygments_lexer": "ipython3",
   "version": "3.8.7"
  },
  "orig_nbformat": 4,
  "vscode": {
   "interpreter": {
    "hash": "e0144baad0ecee903f108a3e46e51ceadd7da3fc904cfa79747d813b61464b4e"
   }
  }
 },
 "nbformat": 4,
 "nbformat_minor": 2
}
