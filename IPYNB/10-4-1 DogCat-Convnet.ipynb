{
 "cells": [
  {
   "cell_type": "markdown",
   "metadata": {},
   "source": [
    "#### 卷积神经网络分类猫-狗图像数据集\n",
    "\n",
    "**数据准备**\n",
    "+ 将以目录形式保存图像文件导入为dataset形式\n",
    "+ 训练数据：1000幅图像\n",
    "+ 验证数据：500幅图像\n",
    "+ 测试数据：500幅图像\n",
    "+ 类别：猫和狗两个类别\n",
    "+ 图像统一规格化为$150\\times150$大小，划分每个batch为20个样本"
   ]
  },
  {
   "cell_type": "code",
   "execution_count": 1,
   "metadata": {},
   "outputs": [
    {
     "name": "stdout",
     "output_type": "stream",
     "text": [
      "Found 2000 files belonging to 2 classes.\n",
      "Found 1000 files belonging to 2 classes.\n",
      "Found 1000 files belonging to 2 classes.\n"
     ]
    }
   ],
   "source": [
    "from tensorflow.keras.utils import image_dataset_from_directory\n",
    "\n",
    "train_dir = 'cats_and_dogs_small/train'\n",
    "validation_dir = 'cats_and_dogs_small/validation'\n",
    "test_dir = 'cats_and_dogs_small/test'\n",
    "\n",
    "train_dataset = image_dataset_from_directory(train_dir,labels='inferred',image_size=(150,150),batch_size=20,label_mode='binary')\n",
    "validation_dataset = image_dataset_from_directory(validation_dir,labels='inferred',image_size=(150,150),batch_size=20,label_mode='binary')\n",
    "test_dataset = image_dataset_from_directory(test_dir,labels='inferred',image_size=(150,150),batch_size=20,label_mode='binary')"
   ]
  },
  {
   "cell_type": "markdown",
   "metadata": {},
   "source": [
    "**构建网络**\n",
    "+ 卷积层1：32个$3\\times3$的卷积核\n",
    "+ 池化层1：最大值池化为一半分辨率\n",
    "+ 卷积层2：64个$3\\times3$的卷积核\n",
    "+ 池化层2：最大值池化为一半分辨率\n",
    "+ 卷积层3：128个$3\\times3$的卷积核\n",
    "+ 池化层3：最大值池化为一半分辨率\n",
    "+ 全连接层：512个神经元\n",
    "+ 输出层：1个神经元，激活函数sigmoid"
   ]
  },
  {
   "cell_type": "code",
   "execution_count": 2,
   "metadata": {},
   "outputs": [
    {
     "name": "stdout",
     "output_type": "stream",
     "text": [
      "Model: \"sequential\"\n",
      "_________________________________________________________________\n",
      " Layer (type)                Output Shape              Param #   \n",
      "=================================================================\n",
      " conv2d (Conv2D)             (None, 148, 148, 32)      896       \n",
      "                                                                 \n",
      " max_pooling2d (MaxPooling2D  (None, 74, 74, 32)       0         \n",
      " )                                                               \n",
      "                                                                 \n",
      " conv2d_1 (Conv2D)           (None, 72, 72, 64)        18496     \n",
      "                                                                 \n",
      " max_pooling2d_1 (MaxPooling  (None, 36, 36, 64)       0         \n",
      " 2D)                                                             \n",
      "                                                                 \n",
      " conv2d_2 (Conv2D)           (None, 34, 34, 128)       73856     \n",
      "                                                                 \n",
      " max_pooling2d_2 (MaxPooling  (None, 17, 17, 128)      0         \n",
      " 2D)                                                             \n",
      "                                                                 \n",
      " conv2d_3 (Conv2D)           (None, 15, 15, 128)       147584    \n",
      "                                                                 \n",
      " max_pooling2d_3 (MaxPooling  (None, 7, 7, 128)        0         \n",
      " 2D)                                                             \n",
      "                                                                 \n",
      " flatten (Flatten)           (None, 6272)              0         \n",
      "                                                                 \n",
      " dense (Dense)               (None, 512)               3211776   \n",
      "                                                                 \n",
      " dense_1 (Dense)             (None, 1)                 513       \n",
      "                                                                 \n",
      "=================================================================\n",
      "Total params: 3,453,121\n",
      "Trainable params: 3,453,121\n",
      "Non-trainable params: 0\n",
      "_________________________________________________________________\n"
     ]
    }
   ],
   "source": [
    "from tensorflow.keras import layers\n",
    "from tensorflow.keras import models\n",
    "\n",
    "network = models.Sequential()\n",
    "network.add(layers.Input(shape=(150,150,3)))\n",
    "network.add(layers.Conv2D(32, (3, 3), activation='relu'))\n",
    "network.add(layers.MaxPooling2D((2, 2)))\n",
    "network.add(layers.Conv2D(64, (3, 3), activation='relu'))\n",
    "network.add(layers.MaxPooling2D((2, 2)))\n",
    "network.add(layers.Conv2D(128, (3, 3), activation='relu'))\n",
    "network.add(layers.MaxPooling2D((2, 2)))\n",
    "network.add(layers.Conv2D(128, (3, 3), activation='relu'))\n",
    "network.add(layers.MaxPooling2D((2, 2)))\n",
    "network.add(layers.Flatten())\n",
    "network.add(layers.Dense(512, activation='relu'))\n",
    "network.add(layers.Dense(1, activation='sigmoid'))\n",
    "\n",
    "network.summary()"
   ]
  },
  {
   "cell_type": "markdown",
   "metadata": {},
   "source": [
    "**学习网络**\n",
    "+ 优化算法：RMSprop，学习率$0.0001$\n",
    "+ 损失函数：binary_crossentropy\n",
    "+ 以分类正确率作为度量指标\n",
    "+ 学习30个回合，每个回合迭代100个batch，每个batch为20个训练样本\n",
    "+ 学习样本为训练集dataset\n",
    "+ 验证集dataset仅作为观察数据，每50次迭代观察一次"
   ]
  },
  {
   "cell_type": "code",
   "execution_count": 3,
   "metadata": {},
   "outputs": [
    {
     "name": "stdout",
     "output_type": "stream",
     "text": [
      "Epoch 1/30\n",
      "100/100 [==============================] - 15s 45ms/step - loss: 3.2598 - acc: 0.5130 - val_loss: 1.0347 - val_acc: 0.5130\n",
      "Epoch 2/30\n",
      "100/100 [==============================] - 4s 44ms/step - loss: 0.6902 - acc: 0.5935 - val_loss: 0.7784 - val_acc: 0.5690\n",
      "Epoch 3/30\n",
      "100/100 [==============================] - 5s 45ms/step - loss: 0.5784 - acc: 0.7070 - val_loss: 0.7096 - val_acc: 0.6150\n",
      "Epoch 4/30\n",
      "100/100 [==============================] - 4s 44ms/step - loss: 0.4588 - acc: 0.7700 - val_loss: 0.7902 - val_acc: 0.6200\n",
      "Epoch 5/30\n",
      "100/100 [==============================] - 4s 45ms/step - loss: 0.3759 - acc: 0.8315 - val_loss: 0.7377 - val_acc: 0.6500\n",
      "Epoch 6/30\n",
      "100/100 [==============================] - 4s 45ms/step - loss: 0.3008 - acc: 0.8650 - val_loss: 0.8492 - val_acc: 0.6760\n",
      "Epoch 7/30\n",
      "100/100 [==============================] - 5s 45ms/step - loss: 0.2339 - acc: 0.9015 - val_loss: 0.9019 - val_acc: 0.6540\n",
      "Epoch 8/30\n",
      "100/100 [==============================] - 5s 46ms/step - loss: 0.1985 - acc: 0.9230 - val_loss: 1.3444 - val_acc: 0.6310\n",
      "Epoch 9/30\n",
      "100/100 [==============================] - 5s 45ms/step - loss: 0.1659 - acc: 0.9360 - val_loss: 1.0051 - val_acc: 0.6820\n",
      "Epoch 10/30\n",
      "100/100 [==============================] - 5s 45ms/step - loss: 0.1137 - acc: 0.9570 - val_loss: 1.1533 - val_acc: 0.6740\n",
      "Epoch 11/30\n",
      "100/100 [==============================] - 4s 44ms/step - loss: 0.1016 - acc: 0.9610 - val_loss: 1.3879 - val_acc: 0.6640\n",
      "Epoch 12/30\n",
      "100/100 [==============================] - 4s 45ms/step - loss: 0.1047 - acc: 0.9615 - val_loss: 1.3832 - val_acc: 0.6600\n",
      "Epoch 13/30\n",
      "100/100 [==============================] - 5s 45ms/step - loss: 0.0757 - acc: 0.9755 - val_loss: 1.6891 - val_acc: 0.6560\n",
      "Epoch 14/30\n",
      "100/100 [==============================] - 4s 45ms/step - loss: 0.0795 - acc: 0.9760 - val_loss: 1.5118 - val_acc: 0.6460\n",
      "Epoch 15/30\n",
      "100/100 [==============================] - 4s 44ms/step - loss: 0.0748 - acc: 0.9735 - val_loss: 1.4253 - val_acc: 0.6980\n",
      "Epoch 16/30\n",
      "100/100 [==============================] - 4s 44ms/step - loss: 0.0710 - acc: 0.9795 - val_loss: 1.6689 - val_acc: 0.6860\n",
      "Epoch 17/30\n",
      "100/100 [==============================] - 5s 45ms/step - loss: 0.0543 - acc: 0.9845 - val_loss: 1.5965 - val_acc: 0.6650\n",
      "Epoch 18/30\n",
      "100/100 [==============================] - 5s 45ms/step - loss: 0.0683 - acc: 0.9810 - val_loss: 1.8412 - val_acc: 0.6810\n",
      "Epoch 19/30\n",
      "100/100 [==============================] - 5s 45ms/step - loss: 0.0558 - acc: 0.9825 - val_loss: 1.9411 - val_acc: 0.6750\n",
      "Epoch 20/30\n",
      "100/100 [==============================] - 5s 45ms/step - loss: 0.0570 - acc: 0.9875 - val_loss: 2.1533 - val_acc: 0.6790\n",
      "Epoch 21/30\n",
      "100/100 [==============================] - 5s 45ms/step - loss: 0.0580 - acc: 0.9895 - val_loss: 2.0496 - val_acc: 0.6770\n",
      "Epoch 22/30\n",
      "100/100 [==============================] - 5s 45ms/step - loss: 0.0680 - acc: 0.9865 - val_loss: 2.2068 - val_acc: 0.6540\n",
      "Epoch 23/30\n",
      "100/100 [==============================] - 4s 45ms/step - loss: 0.0884 - acc: 0.9770 - val_loss: 1.8297 - val_acc: 0.6690\n",
      "Epoch 24/30\n",
      "100/100 [==============================] - 4s 45ms/step - loss: 0.0179 - acc: 0.9940 - val_loss: 1.9558 - val_acc: 0.6870\n",
      "Epoch 25/30\n",
      "100/100 [==============================] - 5s 45ms/step - loss: 0.1006 - acc: 0.9855 - val_loss: 2.0100 - val_acc: 0.6820\n",
      "Epoch 26/30\n",
      "100/100 [==============================] - 4s 45ms/step - loss: 0.0775 - acc: 0.9875 - val_loss: 2.1934 - val_acc: 0.6660\n",
      "Epoch 27/30\n",
      "100/100 [==============================] - 4s 44ms/step - loss: 0.0174 - acc: 0.9950 - val_loss: 2.1106 - val_acc: 0.6850\n",
      "Epoch 28/30\n",
      "100/100 [==============================] - 4s 44ms/step - loss: 0.0285 - acc: 0.9910 - val_loss: 2.0958 - val_acc: 0.6920\n",
      "Epoch 29/30\n",
      "100/100 [==============================] - 4s 44ms/step - loss: 0.0694 - acc: 0.9850 - val_loss: 2.3066 - val_acc: 0.6690\n",
      "Epoch 30/30\n",
      "100/100 [==============================] - 4s 44ms/step - loss: 0.0093 - acc: 0.9970 - val_loss: 2.3427 - val_acc: 0.6600\n"
     ]
    }
   ],
   "source": [
    "from tensorflow.keras import optimizers\n",
    "\n",
    "network.compile(loss='binary_crossentropy',optimizer=optimizers.RMSprop(learning_rate=1e-4),metrics=['acc'])\n",
    "history = network.fit(train_dataset,steps_per_epoch=100,epochs=30, validation_data=validation_dataset,validation_steps=50)"
   ]
  },
  {
   "cell_type": "markdown",
   "metadata": {},
   "source": [
    "**测试网络**\n",
    "+ 分别使用训练集、验证集和测试集评估网络"
   ]
  },
  {
   "cell_type": "code",
   "execution_count": 4,
   "metadata": {},
   "outputs": [
    {
     "name": "stdout",
     "output_type": "stream",
     "text": [
      "100/100 [==============================] - 2s 16ms/step - loss: 0.0276 - acc: 0.9910\n",
      "50/50 [==============================] - 1s 15ms/step - loss: 2.3427 - acc: 0.6600\n",
      "50/50 [==============================] - 1s 15ms/step - loss: 2.5902 - acc: 0.6720\n",
      "\n",
      "Train Accuracy:      0.9909999966621399\n",
      "Validation Accuracy: 0.6600000262260437\n",
      "Test Accuracy:       0.671999990940094\n"
     ]
    }
   ],
   "source": [
    "train_loss, train_acc = network.evaluate(train_dataset)\n",
    "validation_loss, validation_acc = network.evaluate(validation_dataset)\n",
    "test_loss, test_acc = network.evaluate(test_dataset)\n",
    "\n",
    "print('\\nTrain Accuracy:     ', train_acc)\n",
    "print('Validation Accuracy:', validation_acc)\n",
    "print('Test Accuracy:      ', test_acc)"
   ]
  },
  {
   "cell_type": "markdown",
   "metadata": {},
   "source": [
    "**显示网络的过学习现象**\n",
    "+ 显示学习过程中训练集和验证集数据的正确率变化"
   ]
  },
  {
   "cell_type": "code",
   "execution_count": 6,
   "metadata": {},
   "outputs": [
    {
     "data": {
      "text/plain": [
       "<matplotlib.legend.Legend at 0x1ed04f82d40>"
      ]
     },
     "execution_count": 6,
     "metadata": {},
     "output_type": "execute_result"
    },
    {
     "data": {
      "image/png": "[encoded data removed]",
      "text/plain": [
       "<Figure size 432x288 with 1 Axes>"
      ]
     },
     "metadata": {
      "needs_background": "light"
     },
     "output_type": "display_data"
    }
   ],
   "source": [
    "import matplotlib.pyplot as plt\n",
    "\n",
    "acc = history.history['acc']\n",
    "val_acc = history.history['val_acc']\n",
    "\n",
    "epochs = range(1, len(acc) + 1)\n",
    "plt.plot(epochs, acc, 'b', label='Training acc')\n",
    "plt.plot(epochs, val_acc, 'r', label='Validation acc')\n",
    "plt.title('Training and validation accuracy')\n",
    "plt.legend()"
   ]
  }
 ],
 "metadata": {
  "kernelspec": {
   "display_name": "Python 3.8.7 64-bit",
   "language": "python",
   "name": "python3"
  },
  "language_info": {
   "codemirror_mode": {
    "name": "ipython",
    "version": 3
   },
   "file_extension": ".py",
   "mimetype": "text/x-python",
   "name": "python",
   "nbconvert_exporter": "python",
   "pygments_lexer": "ipython3",
   "version": "3.8.7"
  },
  "orig_nbformat": 4,
  "vscode": {
   "interpreter": {
    "hash": "e0144baad0ecee903f108a3e46e51ceadd7da3fc904cfa79747d813b61464b4e"
   }
  }
 },
 "nbformat": 4,
 "nbformat_minor": 2
}
