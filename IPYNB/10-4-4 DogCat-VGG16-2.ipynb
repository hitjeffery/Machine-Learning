{
 "cells": [
  {
   "cell_type": "markdown",
   "id": "fa684166",
   "metadata": {},
   "source": [
    "#### 猫-狗分类网络改进：使用预学习网络\n",
    "\n",
    "**图像数据导入为dataset**"
   ]
  },
  {
   "cell_type": "code",
   "execution_count": 1,
   "id": "1e32834c",
   "metadata": {},
   "outputs": [
    {
     "name": "stdout",
     "output_type": "stream",
     "text": [
      "Found 2000 files belonging to 2 classes.\n",
      "Found 1000 files belonging to 2 classes.\n",
      "Found 1000 files belonging to 2 classes.\n"
     ]
    }
   ],
   "source": [
    "from tensorflow.keras.utils import image_dataset_from_directory\n",
    "\n",
    "train_dir = 'cats_and_dogs_small/train'\n",
    "validation_dir = 'cats_and_dogs_small/validation'\n",
    "test_dir = 'cats_and_dogs_small/test'\n",
    "\n",
    "train_dataset = image_dataset_from_directory(train_dir,labels='inferred',image_size=(150,150),batch_size=20,label_mode='binary')\n",
    "validation_dataset = image_dataset_from_directory(validation_dir,labels='inferred',image_size=(150,150),batch_size=20,label_mode='binary')\n",
    "test_dataset = image_dataset_from_directory(test_dir,labels='inferred',image_size=(150,150),batch_size=20,label_mode='binary')"
   ]
  },
  {
   "cell_type": "markdown",
   "id": "32aabfd5",
   "metadata": {},
   "source": [
    "**构建数据增广网络**"
   ]
  },
  {
   "cell_type": "code",
   "execution_count": 2,
   "id": "46dfa2f9",
   "metadata": {},
   "outputs": [
    {
     "name": "stdout",
     "output_type": "stream",
     "text": [
      "Model: \"Data_Augmentation\"\n",
      "_________________________________________________________________\n",
      " Layer (type)                Output Shape              Param #   \n",
      "=================================================================\n",
      " random_rotation (RandomRota  (None, 150, 150, 3)      0         \n",
      " tion)                                                           \n",
      "                                                                 \n",
      " random_flip (RandomFlip)    (None, 150, 150, 3)       0         \n",
      "                                                                 \n",
      " random_zoom (RandomZoom)    (None, 150, 150, 3)       0         \n",
      "                                                                 \n",
      "=================================================================\n",
      "Total params: 0\n",
      "Trainable params: 0\n",
      "Non-trainable params: 0\n",
      "_________________________________________________________________\n"
     ]
    }
   ],
   "source": [
    "from tensorflow.keras import layers\n",
    "from tensorflow.keras import models\n",
    "\n",
    "data_augmentation = models.Sequential(name='Data_Augmentation')\n",
    "data_augmentation.add(layers.Input(shape=(150,150,3)))\n",
    "data_augmentation.add(layers.RandomRotation(factor=(-0.12,+0.12)))\n",
    "data_augmentation.add(layers.RandomFlip(mode='horizontal'))\n",
    "data_augmentation.add(layers.RandomZoom(height_factor=(-0.2, 0.2)))\n",
    "\n",
    "data_augmentation.summary()"
   ]
  },
  {
   "cell_type": "markdown",
   "id": "42ab30a7",
   "metadata": {},
   "source": [
    "**导入预学习网络**\n",
    "+ 导入VGG16网络\n",
    "+ 使用在ImageNet数据集上预学习的参数\n",
    "+ 不包含原网络的分类部分，仅保留卷积部分\n",
    "+ 输入层设定为：$150\\times150\\times3$"
   ]
  },
  {
   "cell_type": "code",
   "execution_count": 3,
   "id": "a562e158",
   "metadata": {},
   "outputs": [
    {
     "name": "stdout",
     "output_type": "stream",
     "text": [
      "Model: \"vgg16\"\n",
      "_________________________________________________________________\n",
      " Layer (type)                Output Shape              Param #   \n",
      "=================================================================\n",
      " input_2 (InputLayer)        [(None, 150, 150, 3)]     0         \n",
      "                                                                 \n",
      " block1_conv1 (Conv2D)       (None, 150, 150, 64)      1792      \n",
      "                                                                 \n",
      " block1_conv2 (Conv2D)       (None, 150, 150, 64)      36928     \n",
      "                                                                 \n",
      " block1_pool (MaxPooling2D)  (None, 75, 75, 64)        0         \n",
      "                                                                 \n",
      " block2_conv1 (Conv2D)       (None, 75, 75, 128)       73856     \n",
      "                                                                 \n",
      " block2_conv2 (Conv2D)       (None, 75, 75, 128)       147584    \n",
      "                                                                 \n",
      " block2_pool (MaxPooling2D)  (None, 37, 37, 128)       0         \n",
      "                                                                 \n",
      " block3_conv1 (Conv2D)       (None, 37, 37, 256)       295168    \n",
      "                                                                 \n",
      " block3_conv2 (Conv2D)       (None, 37, 37, 256)       590080    \n",
      "                                                                 \n",
      " block3_conv3 (Conv2D)       (None, 37, 37, 256)       590080    \n",
      "                                                                 \n",
      " block3_pool (MaxPooling2D)  (None, 18, 18, 256)       0         \n",
      "                                                                 \n",
      " block4_conv1 (Conv2D)       (None, 18, 18, 512)       1180160   \n",
      "                                                                 \n",
      " block4_conv2 (Conv2D)       (None, 18, 18, 512)       2359808   \n",
      "                                                                 \n",
      " block4_conv3 (Conv2D)       (None, 18, 18, 512)       2359808   \n",
      "                                                                 \n",
      " block4_pool (MaxPooling2D)  (None, 9, 9, 512)         0         \n",
      "                                                                 \n",
      " block5_conv1 (Conv2D)       (None, 9, 9, 512)         2359808   \n",
      "                                                                 \n",
      " block5_conv2 (Conv2D)       (None, 9, 9, 512)         2359808   \n",
      "                                                                 \n",
      " block5_conv3 (Conv2D)       (None, 9, 9, 512)         2359808   \n",
      "                                                                 \n",
      " block5_pool (MaxPooling2D)  (None, 4, 4, 512)         0         \n",
      "                                                                 \n",
      "=================================================================\n",
      "Total params: 14,714,688\n",
      "Trainable params: 14,714,688\n",
      "Non-trainable params: 0\n",
      "_________________________________________________________________\n"
     ]
    }
   ],
   "source": [
    "from tensorflow.keras.applications import VGG16\n",
    "\n",
    "conv_base = VGG16(weights='imagenet',include_top=False,input_shape=(150, 150, 3))\n",
    "\n",
    "conv_base.summary()"
   ]
  },
  {
   "cell_type": "markdown",
   "id": "65133d75",
   "metadata": {},
   "source": [
    "**构建网络**\n",
    "\n",
    "+ 加入输入层和预处理网络\n",
    "+ 加入VGG16预学习网络\n",
    "  - 将block1~block4的所有卷积核参数设置为不可学习\n",
    "  - 将block5卷积核参数设置为可学习\n",
    "+ 增加全连接层：256个神经元\n",
    "+ 增加输出层：1个神经元，激活函数sigmoid"
   ]
  },
  {
   "cell_type": "code",
   "execution_count": 4,
   "id": "9d8fcecb",
   "metadata": {},
   "outputs": [
    {
     "name": "stdout",
     "output_type": "stream",
     "text": [
      "Model: \"sequential\"\n",
      "_________________________________________________________________\n",
      " Layer (type)                Output Shape              Param #   \n",
      "=================================================================\n",
      " Data_Augmentation (Sequenti  (None, 150, 150, 3)      0         \n",
      " al)                                                             \n",
      "                                                                 \n",
      " vgg16 (Functional)          (None, 4, 4, 512)         14714688  \n",
      "                                                                 \n",
      " flatten (Flatten)           (None, 8192)              0         \n",
      "                                                                 \n",
      " dense (Dense)               (None, 256)               2097408   \n",
      "                                                                 \n",
      " dense_1 (Dense)             (None, 1)                 257       \n",
      "                                                                 \n",
      "=================================================================\n",
      "Total params: 16,812,353\n",
      "Trainable params: 9,177,089\n",
      "Non-trainable params: 7,635,264\n",
      "_________________________________________________________________\n"
     ]
    }
   ],
   "source": [
    "from tensorflow.keras import models\n",
    "from tensorflow.keras import layers\n",
    "\n",
    "conv_base.trainable = True\n",
    "\n",
    "set_trainable = False\n",
    "for layer in conv_base.layers:\n",
    "    if layer.name == 'block5_conv1':\n",
    "        set_trainable = True\n",
    "    if set_trainable:\n",
    "        layer.trainable = True\n",
    "    else:\n",
    "        layer.trainable = False\n",
    "        \n",
    "network = models.Sequential()\n",
    "network.add(layers.Input(shape=(150,150,3)))\n",
    "network.add(data_augmentation)\n",
    "network.add(conv_base)\n",
    "network.add(layers.Flatten())\n",
    "network.add(layers.Dense(256, activation='relu'))\n",
    "network.add(layers.Dense(1, activation='sigmoid'))\n",
    "\n",
    "network.summary()"
   ]
  },
  {
   "cell_type": "markdown",
   "id": "f326e96e",
   "metadata": {},
   "source": [
    "**学习网络**\n",
    "+ 优化算法：RMSprop，学习率$0.00002$\n",
    "+ 损失函数：binary_crossentropy\n",
    "+ 以分类正确率作为度量指标\n",
    "+ 学习30个回合，每个回合迭代100个batch，每个batch为20个训练样本\n",
    "+ 学习样本为训练集dataset\n",
    "+ 验证集dataset仅作为观察数据，每20次迭代观察一次"
   ]
  },
  {
   "cell_type": "code",
   "execution_count": 5,
   "id": "691cceff",
   "metadata": {},
   "outputs": [
    {
     "name": "stdout",
     "output_type": "stream",
     "text": [
      "Epoch 1/30\n",
      "100/100 [==============================] - 20s 145ms/step - loss: 1.1853 - acc: 0.7625 - val_loss: 0.4757 - val_acc: 0.8900\n",
      "Epoch 2/30\n",
      "100/100 [==============================] - 14s 144ms/step - loss: 0.4261 - acc: 0.8375 - val_loss: 0.2130 - val_acc: 0.9400\n",
      "Epoch 3/30\n",
      "100/100 [==============================] - 32s 326ms/step - loss: 0.2695 - acc: 0.8950 - val_loss: 0.2406 - val_acc: 0.9500\n",
      "Epoch 4/30\n",
      "100/100 [==============================] - 16s 157ms/step - loss: 0.2332 - acc: 0.9085 - val_loss: 0.1962 - val_acc: 0.9650\n",
      "Epoch 5/30\n",
      "100/100 [==============================] - 15s 148ms/step - loss: 0.2175 - acc: 0.9270 - val_loss: 0.1256 - val_acc: 0.9650\n",
      "Epoch 6/30\n",
      "100/100 [==============================] - 15s 149ms/step - loss: 0.1489 - acc: 0.9375 - val_loss: 0.1705 - val_acc: 0.9650\n",
      "Epoch 7/30\n",
      "100/100 [==============================] - 15s 151ms/step - loss: 0.1367 - acc: 0.9520 - val_loss: 0.1142 - val_acc: 0.9700\n",
      "Epoch 8/30\n",
      "100/100 [==============================] - 15s 155ms/step - loss: 0.1111 - acc: 0.9625 - val_loss: 0.3275 - val_acc: 0.9500\n",
      "Epoch 9/30\n",
      "100/100 [==============================] - 16s 156ms/step - loss: 0.1180 - acc: 0.9610 - val_loss: 0.1967 - val_acc: 0.9650\n",
      "Epoch 10/30\n",
      "100/100 [==============================] - 16s 156ms/step - loss: 0.0870 - acc: 0.9700 - val_loss: 0.2601 - val_acc: 0.9650\n",
      "Epoch 11/30\n",
      "100/100 [==============================] - 16s 158ms/step - loss: 0.0930 - acc: 0.9640 - val_loss: 0.1654 - val_acc: 0.9725\n",
      "Epoch 12/30\n",
      "100/100 [==============================] - 16s 159ms/step - loss: 0.0715 - acc: 0.9755 - val_loss: 0.3494 - val_acc: 0.9700\n",
      "Epoch 13/30\n",
      "100/100 [==============================] - 16s 157ms/step - loss: 0.0856 - acc: 0.9730 - val_loss: 0.1399 - val_acc: 0.9800\n",
      "Epoch 14/30\n",
      "100/100 [==============================] - 16s 156ms/step - loss: 0.0961 - acc: 0.9710 - val_loss: 0.1798 - val_acc: 0.9725\n",
      "Epoch 15/30\n",
      "100/100 [==============================] - 16s 155ms/step - loss: 0.0723 - acc: 0.9780 - val_loss: 0.1446 - val_acc: 0.9825\n",
      "Epoch 16/30\n",
      "100/100 [==============================] - 15s 152ms/step - loss: 0.0469 - acc: 0.9850 - val_loss: 0.2539 - val_acc: 0.9700\n",
      "Epoch 17/30\n",
      "100/100 [==============================] - 15s 149ms/step - loss: 0.0684 - acc: 0.9775 - val_loss: 0.2454 - val_acc: 0.9575\n",
      "Epoch 18/30\n",
      "100/100 [==============================] - 15s 150ms/step - loss: 0.0413 - acc: 0.9880 - val_loss: 0.2501 - val_acc: 0.9625\n",
      "Epoch 19/30\n",
      "100/100 [==============================] - 15s 149ms/step - loss: 0.0369 - acc: 0.9890 - val_loss: 0.2245 - val_acc: 0.9800\n",
      "Epoch 20/30\n",
      "100/100 [==============================] - 15s 148ms/step - loss: 0.0514 - acc: 0.9860 - val_loss: 0.1728 - val_acc: 0.9825\n",
      "Epoch 21/30\n",
      "100/100 [==============================] - 15s 145ms/step - loss: 0.0492 - acc: 0.9830 - val_loss: 0.1745 - val_acc: 0.9750\n",
      "Epoch 22/30\n",
      "100/100 [==============================] - 15s 145ms/step - loss: 0.0496 - acc: 0.9880 - val_loss: 0.2179 - val_acc: 0.9725\n",
      "Epoch 23/30\n",
      "100/100 [==============================] - 15s 145ms/step - loss: 0.0362 - acc: 0.9860 - val_loss: 0.3395 - val_acc: 0.9625\n",
      "Epoch 24/30\n",
      "100/100 [==============================] - 15s 145ms/step - loss: 0.0233 - acc: 0.9915 - val_loss: 0.5111 - val_acc: 0.9700\n",
      "Epoch 25/30\n",
      "100/100 [==============================] - 15s 146ms/step - loss: 0.0564 - acc: 0.9875 - val_loss: 0.1601 - val_acc: 0.9850\n",
      "Epoch 26/30\n",
      "100/100 [==============================] - 15s 146ms/step - loss: 0.0211 - acc: 0.9915 - val_loss: 0.2090 - val_acc: 0.9775\n",
      "Epoch 27/30\n",
      "100/100 [==============================] - 15s 145ms/step - loss: 0.0296 - acc: 0.9895 - val_loss: 0.3161 - val_acc: 0.9700\n",
      "Epoch 28/30\n",
      "100/100 [==============================] - 15s 145ms/step - loss: 0.0155 - acc: 0.9935 - val_loss: 0.4637 - val_acc: 0.9600\n",
      "Epoch 29/30\n",
      "100/100 [==============================] - 15s 146ms/step - loss: 0.0316 - acc: 0.9905 - val_loss: 0.4286 - val_acc: 0.9750\n",
      "Epoch 30/30\n",
      "100/100 [==============================] - 15s 146ms/step - loss: 0.0438 - acc: 0.9880 - val_loss: 0.3047 - val_acc: 0.9600\n"
     ]
    }
   ],
   "source": [
    "from tensorflow.keras import optimizers\n",
    "\n",
    "network.compile(loss='binary_crossentropy',optimizer=optimizers.RMSprop(learning_rate=2e-5),metrics=['acc'])\n",
    "history = network.fit(train_dataset,steps_per_epoch=100,epochs=30,validation_data=validation_dataset,validation_steps=20)"
   ]
  },
  {
   "cell_type": "markdown",
   "id": "1db8cfb0",
   "metadata": {},
   "source": [
    "**测试网络**\n",
    "+ 分别使用训练集、验证集和测试集评估网络的性能"
   ]
  },
  {
   "cell_type": "code",
   "execution_count": 8,
   "id": "ad95045f",
   "metadata": {},
   "outputs": [
    {
     "name": "stdout",
     "output_type": "stream",
     "text": [
      "100/100 [==============================] - 10s 93ms/step - loss: 0.0119 - acc: 0.9970\n",
      "50/50 [==============================] - 5s 93ms/step - loss: 0.4320 - acc: 0.9590\n",
      "50/50 [==============================] - 5s 93ms/step - loss: 0.4069 - acc: 0.9580\n",
      "\n",
      "Train Accuracy:      0.996999979019165\n",
      "Validation Accuracy: 0.9589999914169312\n",
      "Test Accuracy:       0.9580000042915344\n"
     ]
    }
   ],
   "source": [
    "train_loss, train_acc = network.evaluate(train_dataset)\n",
    "validation_loss, validation_acc = network.evaluate(validation_dataset)\n",
    "test_loss, test_acc = network.evaluate(test_dataset)\n",
    "\n",
    "print('\\nTrain Accuracy:     ', train_acc)\n",
    "print('Validation Accuracy:', validation_acc)\n",
    "print('Test Accuracy:      ', test_acc)"
   ]
  },
  {
   "cell_type": "markdown",
   "id": "bf46ffc7",
   "metadata": {},
   "source": [
    "**显示学习过程**"
   ]
  },
  {
   "cell_type": "code",
   "execution_count": 9,
   "id": "287b4dad",
   "metadata": {},
   "outputs": [
    {
     "data": {
      "image/png": "[encoded data removed]",
      "text/plain": [
       "<Figure size 432x288 with 1 Axes>"
      ]
     },
     "metadata": {
      "needs_background": "light"
     },
     "output_type": "display_data"
    }
   ],
   "source": [
    "import matplotlib.pyplot as plt\n",
    "\n",
    "acc = history.history['acc']\n",
    "val_acc = history.history['val_acc']\n",
    "\n",
    "epochs = range(1, len(acc) + 1)\n",
    "plt.plot(epochs, acc, 'b', label='Training acc')\n",
    "plt.plot(epochs, val_acc, 'r', label='Validation acc')\n",
    "plt.title('Training and validation accuracy')\n",
    "plt.legend()\n",
    "plt.show()"
   ]
  }
 ],
 "metadata": {
  "kernelspec": {
   "display_name": "Python 3.8.7 64-bit",
   "language": "python",
   "name": "python3"
  },
  "language_info": {
   "codemirror_mode": {
    "name": "ipython",
    "version": 3
   },
   "file_extension": ".py",
   "mimetype": "text/x-python",
   "name": "python",
   "nbconvert_exporter": "python",
   "pygments_lexer": "ipython3",
   "version": "3.8.7"
  },
  "varInspector": {
   "cols": {
    "lenName": 16,
    "lenType": 16,
    "lenVar": 40
   },
   "kernels_config": {
    "python": {
     "delete_cmd_postfix": "",
     "delete_cmd_prefix": "del ",
     "library": "var_list.py",
     "varRefreshCmd": "print(var_dic_list())"
    },
    "r": {
     "delete_cmd_postfix": ") ",
     "delete_cmd_prefix": "rm(",
     "library": "var_list.r",
     "varRefreshCmd": "cat(var_dic_list()) "
    }
   },
   "types_to_exclude": [
    "module",
    "function",
    "builtin_function_or_method",
    "instance",
    "_Feature"
   ],
   "window_display": false
  },
  "vscode": {
   "interpreter": {
    "hash": "e0144baad0ecee903f108a3e46e51ceadd7da3fc904cfa79747d813b61464b4e"
   }
  }
 },
 "nbformat": 4,
 "nbformat_minor": 5
}
