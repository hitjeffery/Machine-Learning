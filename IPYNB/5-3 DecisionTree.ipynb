{
 "cells": [
  {
   "cell_type": "markdown",
   "metadata": {},
   "source": [
    "#### 决策树分类\n",
    "\n",
    "+ 17个仿真数据\n",
    "+ 使用信息熵选择划分属性(C4.5算法)，学习决策树"
   ]
  },
  {
   "cell_type": "code",
   "execution_count": 1,
   "metadata": {},
   "outputs": [
    {
     "name": "stdout",
     "output_type": "stream",
     "text": [
      "Predict on training set: ['yes' 'yes' 'yes' 'yes' 'yes' 'yes' 'yes' 'yes' 'no' 'no' 'no' 'no' 'no'\n",
      " 'no' 'no' 'no' 'no']\n",
      "Accuracy on training set: 1.0\n"
     ]
    }
   ],
   "source": [
    "import numpy as np\n",
    "from sklearn.tree import DecisionTreeClassifier\n",
    "\n",
    "X = np.array([[0.697,0.460],[0.774,0.376],[0.634,0.264],[0.608,0.318],[0.556,0.215],[0.403,0.237],[0.481,0.149],[0.437,0.211],\n",
    "              [0.666,0.091],[0.243,0.267],[0.245,0.057],[0.343,0.099],[0.639,0.161],[0.657,0.198],[0.360,0.370],[0.593,0.042],[0.719,0.103]])\n",
    "y = np.array(['yes','yes','yes','yes','yes','yes','yes','yes','no','no','no','no','no','no','no','no','no'])\n",
    "\n",
    "tree = DecisionTreeClassifier(max_depth=5,random_state=0,criterion='entropy')\n",
    "tree.fit(X, y)\n",
    "\n",
    "print(\"Predict on training set:\", tree.predict(X))\n",
    "print(\"Accuracy on training set:\", tree.score(X, y))"
   ]
  },
  {
   "cell_type": "markdown",
   "metadata": {},
   "source": [
    "**显示分类边界**"
   ]
  },
  {
   "cell_type": "code",
   "execution_count": 2,
   "metadata": {},
   "outputs": [
    {
     "data": {
      "image/png": "[encoded data removed]",
      "text/plain": [
       "<Figure size 432x288 with 1 Axes>"
      ]
     },
     "metadata": {
      "needs_background": "light"
     },
     "output_type": "display_data"
    }
   ],
   "source": [
    "import matplotlib.pyplot as plt\n",
    "from plot_decision_boundary import plot_decision_boundary\n",
    "\n",
    "y[y=='yes'] = 0; y[y=='no'] = 1\n",
    "\n",
    "eps = 0.05\n",
    "x_min,x_max = X[:,0].min()-eps, X[:,0].max()+eps\n",
    "y_min,y_max = X[:,1].min()-eps, X[:,1].max()+eps\n",
    "tree = DecisionTreeClassifier(max_depth=5,random_state=0,criterion='entropy')\n",
    "tree.fit(X, y)\n",
    "\n",
    "plot_decision_boundary(tree,axis=[x_min,x_max,y_min,y_max])\n",
    "plt.scatter(X[:,0], X[:,1], c=y.reshape(-1,1), s=50, cmap='rainbow')\n",
    "plt.xlabel(\"Density\"); plt.ylabel(\"Sugar\")\n",
    "\n",
    "plt.show()"
   ]
  },
  {
   "cell_type": "markdown",
   "metadata": {},
   "source": [
    "**显示决策树结构**\n",
    "\n",
    "+ 使用graphviz工具\n",
    "     - sklearn输出.dot文件\n",
    "     - graphviz显示决策树结构（<font color=red>需要安装graphviz软件</font>）"
   ]
  },
  {
   "cell_type": "code",
   "execution_count": 3,
   "metadata": {},
   "outputs": [
    {
     "data": {
      "image/svg+xml": "<?xml version=\"1.0\" encoding=\"UTF-8\" standalone=\"no\"?>\n<!DOCTYPE svg PUBLIC \"-//W3C//DTD SVG 1.1//EN\"\n \"http://www.w3.org/Graphics/SVG/1.1/DTD/svg11.dtd\">\n<!-- Generated by graphviz version 5.0.0 (20220707.1540)\n -->\n<!-- Title: Tree Pages: 1 -->\n<svg width=\"365pt\" height=\"552pt\"\n viewBox=\"0.00 0.00 365.00 552.00\" xmlns=\"http://www.w3.org/2000/svg\" xmlns:xlink=\"http://www.w3.org/1999/xlink\">\n<g id=\"graph0\" class=\"graph\" transform=\"scale(1 1) rotate(0) translate(4 548)\">\n<title>Tree</title>\n<polygon fill=\"white\" stroke=\"transparent\" points=\"-4,4 -4,-548 361,-548 361,4 -4,4\"/>\n<!-- 0 -->\n<g id=\"node1\" class=\"node\">\n<title>0</title>\n<polygon fill=\"#e9f4fc\" stroke=\"black\" points=\"173,-544 57,-544 57,-461 173,-461 173,-544\"/>\n<text text-anchor=\"middle\" x=\"115\" y=\"-528.8\" font-family=\"Helvetica,sans-Serif\" font-size=\"14.00\">Sugar &lt;= 0.126</text>\n<text text-anchor=\"middle\" x=\"115\" y=\"-513.8\" font-family=\"Helvetica,sans-Serif\" font-size=\"14.00\">entropy = 0.998</text>\n<text text-anchor=\"middle\" x=\"115\" y=\"-498.8\" font-family=\"Helvetica,sans-Serif\" font-size=\"14.00\">samples = 17</text>\n<text text-anchor=\"middle\" x=\"115\" y=\"-483.8\" font-family=\"Helvetica,sans-Serif\" font-size=\"14.00\">value = [8, 9]</text>\n<text text-anchor=\"middle\" x=\"115\" y=\"-468.8\" font-family=\"Helvetica,sans-Serif\" font-size=\"14.00\">class = yes</text>\n</g>\n<!-- 1 -->\n<g id=\"node2\" class=\"node\">\n<title>1</title>\n<polygon fill=\"#399de5\" stroke=\"black\" points=\"100,-417.5 0,-417.5 0,-349.5 100,-349.5 100,-417.5\"/>\n<text text-anchor=\"middle\" x=\"50\" y=\"-402.3\" font-family=\"Helvetica,sans-Serif\" font-size=\"14.00\">entropy = 0.0</text>\n<text text-anchor=\"middle\" x=\"50\" y=\"-387.3\" font-family=\"Helvetica,sans-Serif\" font-size=\"14.00\">samples = 5</text>\n<text text-anchor=\"middle\" x=\"50\" y=\"-372.3\" font-family=\"Helvetica,sans-Serif\" font-size=\"14.00\">value = [0, 5]</text>\n<text text-anchor=\"middle\" x=\"50\" y=\"-357.3\" font-family=\"Helvetica,sans-Serif\" font-size=\"14.00\">class = yes</text>\n</g>\n<!-- 0&#45;&gt;1 -->\n<g id=\"edge1\" class=\"edge\">\n<title>0&#45;&gt;1</title>\n<path fill=\"none\" stroke=\"black\" d=\"M92.45,-460.91C86.26,-449.76 79.53,-437.66 73.3,-426.44\"/>\n<polygon fill=\"black\" stroke=\"black\" points=\"76.34,-424.71 68.43,-417.67 70.22,-428.11 76.34,-424.71\"/>\n<text text-anchor=\"middle\" x=\"61.56\" y=\"-438.01\" font-family=\"Helvetica,sans-Serif\" font-size=\"14.00\">True</text>\n</g>\n<!-- 2 -->\n<g id=\"node3\" class=\"node\">\n<title>2</title>\n<polygon fill=\"#f2c09c\" stroke=\"black\" points=\"243.5,-425 118.5,-425 118.5,-342 243.5,-342 243.5,-425\"/>\n<text text-anchor=\"middle\" x=\"181\" y=\"-409.8\" font-family=\"Helvetica,sans-Serif\" font-size=\"14.00\">Density &lt;= 0.382</text>\n<text text-anchor=\"middle\" x=\"181\" y=\"-394.8\" font-family=\"Helvetica,sans-Serif\" font-size=\"14.00\">entropy = 0.918</text>\n<text text-anchor=\"middle\" x=\"181\" y=\"-379.8\" font-family=\"Helvetica,sans-Serif\" font-size=\"14.00\">samples = 12</text>\n<text text-anchor=\"middle\" x=\"181\" y=\"-364.8\" font-family=\"Helvetica,sans-Serif\" font-size=\"14.00\">value = [8, 4]</text>\n<text text-anchor=\"middle\" x=\"181\" y=\"-349.8\" font-family=\"Helvetica,sans-Serif\" font-size=\"14.00\">class = no</text>\n</g>\n<!-- 0&#45;&gt;2 -->\n<g id=\"edge2\" class=\"edge\">\n<title>0&#45;&gt;2</title>\n<path fill=\"none\" stroke=\"black\" d=\"M137.9,-460.91C142.81,-452.2 148.06,-442.9 153.14,-433.89\"/>\n<polygon fill=\"black\" stroke=\"black\" points=\"156.28,-435.45 158.14,-425.02 150.18,-432.01 156.28,-435.45\"/>\n<text text-anchor=\"middle\" x=\"164.85\" y=\"-445.4\" font-family=\"Helvetica,sans-Serif\" font-size=\"14.00\">False</text>\n</g>\n<!-- 3 -->\n<g id=\"node4\" class=\"node\">\n<title>3</title>\n<polygon fill=\"#399de5\" stroke=\"black\" points=\"168,-298.5 68,-298.5 68,-230.5 168,-230.5 168,-298.5\"/>\n<text text-anchor=\"middle\" x=\"118\" y=\"-283.3\" font-family=\"Helvetica,sans-Serif\" font-size=\"14.00\">entropy = 0.0</text>\n<text text-anchor=\"middle\" x=\"118\" y=\"-268.3\" font-family=\"Helvetica,sans-Serif\" font-size=\"14.00\">samples = 2</text>\n<text text-anchor=\"middle\" x=\"118\" y=\"-253.3\" font-family=\"Helvetica,sans-Serif\" font-size=\"14.00\">value = [0, 2]</text>\n<text text-anchor=\"middle\" x=\"118\" y=\"-238.3\" font-family=\"Helvetica,sans-Serif\" font-size=\"14.00\">class = yes</text>\n</g>\n<!-- 2&#45;&gt;3 -->\n<g id=\"edge3\" class=\"edge\">\n<title>2&#45;&gt;3</title>\n<path fill=\"none\" stroke=\"black\" d=\"M159.14,-341.91C153.2,-330.87 146.75,-318.9 140.76,-307.77\"/>\n<polygon fill=\"black\" stroke=\"black\" points=\"143.68,-305.81 135.86,-298.67 137.52,-309.13 143.68,-305.81\"/>\n</g>\n<!-- 4 -->\n<g id=\"node5\" class=\"node\">\n<title>4</title>\n<polygon fill=\"#eca06a\" stroke=\"black\" points=\"302,-306 186,-306 186,-223 302,-223 302,-306\"/>\n<text text-anchor=\"middle\" x=\"244\" y=\"-290.8\" font-family=\"Helvetica,sans-Serif\" font-size=\"14.00\">Sugar &lt;= 0.204</text>\n<text text-anchor=\"middle\" x=\"244\" y=\"-275.8\" font-family=\"Helvetica,sans-Serif\" font-size=\"14.00\">entropy = 0.722</text>\n<text text-anchor=\"middle\" x=\"244\" y=\"-260.8\" font-family=\"Helvetica,sans-Serif\" font-size=\"14.00\">samples = 10</text>\n<text text-anchor=\"middle\" x=\"244\" y=\"-245.8\" font-family=\"Helvetica,sans-Serif\" font-size=\"14.00\">value = [8, 2]</text>\n<text text-anchor=\"middle\" x=\"244\" y=\"-230.8\" font-family=\"Helvetica,sans-Serif\" font-size=\"14.00\">class = no</text>\n</g>\n<!-- 2&#45;&gt;4 -->\n<g id=\"edge4\" class=\"edge\">\n<title>2&#45;&gt;4</title>\n<path fill=\"none\" stroke=\"black\" d=\"M202.86,-341.91C207.55,-333.2 212.56,-323.9 217.4,-314.89\"/>\n<polygon fill=\"black\" stroke=\"black\" points=\"220.52,-316.48 222.18,-306.02 214.36,-313.17 220.52,-316.48\"/>\n</g>\n<!-- 5 -->\n<g id=\"node6\" class=\"node\">\n<title>5</title>\n<polygon fill=\"#9ccef2\" stroke=\"black\" points=\"239,-187 123,-187 123,-104 239,-104 239,-187\"/>\n<text text-anchor=\"middle\" x=\"181\" y=\"-171.8\" font-family=\"Helvetica,sans-Serif\" font-size=\"14.00\">Density &lt;= 0.56</text>\n<text text-anchor=\"middle\" x=\"181\" y=\"-156.8\" font-family=\"Helvetica,sans-Serif\" font-size=\"14.00\">entropy = 0.918</text>\n<text text-anchor=\"middle\" x=\"181\" y=\"-141.8\" font-family=\"Helvetica,sans-Serif\" font-size=\"14.00\">samples = 3</text>\n<text text-anchor=\"middle\" x=\"181\" y=\"-126.8\" font-family=\"Helvetica,sans-Serif\" font-size=\"14.00\">value = [1, 2]</text>\n<text text-anchor=\"middle\" x=\"181\" y=\"-111.8\" font-family=\"Helvetica,sans-Serif\" font-size=\"14.00\">class = yes</text>\n</g>\n<!-- 4&#45;&gt;5 -->\n<g id=\"edge5\" class=\"edge\">\n<title>4&#45;&gt;5</title>\n<path fill=\"none\" stroke=\"black\" d=\"M222.14,-222.91C217.45,-214.2 212.44,-204.9 207.6,-195.89\"/>\n<polygon fill=\"black\" stroke=\"black\" points=\"210.64,-194.17 202.82,-187.02 204.48,-197.48 210.64,-194.17\"/>\n</g>\n<!-- 8 -->\n<g id=\"node9\" class=\"node\">\n<title>8</title>\n<polygon fill=\"#e58139\" stroke=\"black\" points=\"357,-179.5 257,-179.5 257,-111.5 357,-111.5 357,-179.5\"/>\n<text text-anchor=\"middle\" x=\"307\" y=\"-164.3\" font-family=\"Helvetica,sans-Serif\" font-size=\"14.00\">entropy = 0.0</text>\n<text text-anchor=\"middle\" x=\"307\" y=\"-149.3\" font-family=\"Helvetica,sans-Serif\" font-size=\"14.00\">samples = 7</text>\n<text text-anchor=\"middle\" x=\"307\" y=\"-134.3\" font-family=\"Helvetica,sans-Serif\" font-size=\"14.00\">value = [7, 0]</text>\n<text text-anchor=\"middle\" x=\"307\" y=\"-119.3\" font-family=\"Helvetica,sans-Serif\" font-size=\"14.00\">class = no</text>\n</g>\n<!-- 4&#45;&gt;8 -->\n<g id=\"edge8\" class=\"edge\">\n<title>4&#45;&gt;8</title>\n<path fill=\"none\" stroke=\"black\" d=\"M265.86,-222.91C271.8,-211.87 278.25,-199.9 284.24,-188.77\"/>\n<polygon fill=\"black\" stroke=\"black\" points=\"287.48,-190.13 289.14,-179.67 281.32,-186.81 287.48,-190.13\"/>\n</g>\n<!-- 6 -->\n<g id=\"node7\" class=\"node\">\n<title>6</title>\n<polygon fill=\"#e58139\" stroke=\"black\" points=\"172,-68 72,-68 72,0 172,0 172,-68\"/>\n<text text-anchor=\"middle\" x=\"122\" y=\"-52.8\" font-family=\"Helvetica,sans-Serif\" font-size=\"14.00\">entropy = 0.0</text>\n<text text-anchor=\"middle\" x=\"122\" y=\"-37.8\" font-family=\"Helvetica,sans-Serif\" font-size=\"14.00\">samples = 1</text>\n<text text-anchor=\"middle\" x=\"122\" y=\"-22.8\" font-family=\"Helvetica,sans-Serif\" font-size=\"14.00\">value = [1, 0]</text>\n<text text-anchor=\"middle\" x=\"122\" y=\"-7.8\" font-family=\"Helvetica,sans-Serif\" font-size=\"14.00\">class = no</text>\n</g>\n<!-- 5&#45;&gt;6 -->\n<g id=\"edge6\" class=\"edge\">\n<title>5&#45;&gt;6</title>\n<path fill=\"none\" stroke=\"black\" d=\"M159.03,-103.73C154.36,-95.06 149.42,-85.9 144.73,-77.18\"/>\n<polygon fill=\"black\" stroke=\"black\" points=\"147.77,-75.44 139.94,-68.3 141.6,-78.76 147.77,-75.44\"/>\n</g>\n<!-- 7 -->\n<g id=\"node8\" class=\"node\">\n<title>7</title>\n<polygon fill=\"#399de5\" stroke=\"black\" points=\"290,-68 190,-68 190,0 290,0 290,-68\"/>\n<text text-anchor=\"middle\" x=\"240\" y=\"-52.8\" font-family=\"Helvetica,sans-Serif\" font-size=\"14.00\">entropy = 0.0</text>\n<text text-anchor=\"middle\" x=\"240\" y=\"-37.8\" font-family=\"Helvetica,sans-Serif\" font-size=\"14.00\">samples = 2</text>\n<text text-anchor=\"middle\" x=\"240\" y=\"-22.8\" font-family=\"Helvetica,sans-Serif\" font-size=\"14.00\">value = [0, 2]</text>\n<text text-anchor=\"middle\" x=\"240\" y=\"-7.8\" font-family=\"Helvetica,sans-Serif\" font-size=\"14.00\">class = yes</text>\n</g>\n<!-- 5&#45;&gt;7 -->\n<g id=\"edge7\" class=\"edge\">\n<title>5&#45;&gt;7</title>\n<path fill=\"none\" stroke=\"black\" d=\"M202.97,-103.73C207.64,-95.06 212.58,-85.9 217.27,-77.18\"/>\n<polygon fill=\"black\" stroke=\"black\" points=\"220.4,-78.76 222.06,-68.3 214.23,-75.44 220.4,-78.76\"/>\n</g>\n</g>\n</svg>\n",
      "text/plain": [
       "<graphviz.sources.Source at 0x3fbca190>"
      ]
     },
     "execution_count": 3,
     "metadata": {},
     "output_type": "execute_result"
    }
   ],
   "source": [
    "from sklearn.tree import export_graphviz\n",
    "import graphviz\n",
    "\n",
    "export_graphviz(tree, out_file=\"tree.dot\", class_names=['no','yes'],feature_names=np.array(['Density','Sugar']), impurity=True, filled=True)\n",
    "\n",
    "with open(\"tree.dot\") as f:\n",
    "    dot_graph = f.read()\n",
    "graphviz.Source(dot_graph)\n"
   ]
  }
 ],
 "metadata": {
  "kernelspec": {
   "display_name": "Python 3.8.7 64-bit",
   "language": "python",
   "name": "python3"
  },
  "language_info": {
   "codemirror_mode": {
    "name": "ipython",
    "version": 3
   },
   "file_extension": ".py",
   "mimetype": "text/x-python",
   "name": "python",
   "nbconvert_exporter": "python",
   "pygments_lexer": "ipython3",
   "version": "3.8.7"
  },
  "orig_nbformat": 4,
  "vscode": {
   "interpreter": {
    "hash": "e0144baad0ecee903f108a3e46e51ceadd7da3fc904cfa79747d813b61464b4e"
   }
  }
 },
 "nbformat": 4,
 "nbformat_minor": 2
}
