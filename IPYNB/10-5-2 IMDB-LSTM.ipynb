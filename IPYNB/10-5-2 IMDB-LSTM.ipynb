{
 "cells": [
  {
   "cell_type": "markdown",
   "id": "38352849",
   "metadata": {},
   "source": [
    "#### LSTM分类IMDB数据集\n",
    "\n",
    "**数据准备**\n",
    "+ 加载IMDB数据集\n",
    "+ 每一篇评论只保留最常用的10000个单词，去掉不常用词\n",
    "+ 每篇评论padding成长度为500的sequence\n",
    "    - 过长截断\n",
    "    - 过短添0"
   ]
  },
  {
   "cell_type": "code",
   "execution_count": 1,
   "id": "ed2e8e90",
   "metadata": {},
   "outputs": [
    {
     "name": "stdout",
     "output_type": "stream",
     "text": [
      "25000 train sequences\n",
      "25000 test sequences\n",
      "Pad sequences (samples x time)\n",
      "x_train shape: (25000, 500)\n",
      "x_test shape: (25000, 500)\n"
     ]
    }
   ],
   "source": [
    "from tensorflow.keras.datasets import imdb\n",
    "from tensorflow.keras.utils import pad_sequences\n",
    "\n",
    "max_features = 10000\n",
    "maxlen = 500\n",
    "\n",
    "(x_train, y_train), (x_test, y_test) = imdb.load_data(num_words=max_features)\n",
    "\n",
    "print(len(x_train), 'train sequences')\n",
    "print(len(x_test), 'test sequences')\n",
    "print('Pad sequences (samples x time)')\n",
    "\n",
    "x_train = pad_sequences(x_train, maxlen=maxlen)\n",
    "x_test = pad_sequences(x_test, maxlen=maxlen)\n",
    "\n",
    "print('x_train shape:', x_train.shape)\n",
    "print('x_test shape:', x_test.shape)"
   ]
  },
  {
   "cell_type": "markdown",
   "id": "88dfc462",
   "metadata": {},
   "source": [
    "**构建网络**\n",
    "+ Embedding层：32个神经元\n",
    "+ LSTM层：接收输入的32维向量和循环输入的32维向量，输出32维向量\n",
    "+ 输出层：1个神经元，激活函数sigmoid"
   ]
  },
  {
   "cell_type": "code",
   "execution_count": 2,
   "id": "df8022d1",
   "metadata": {},
   "outputs": [
    {
     "name": "stdout",
     "output_type": "stream",
     "text": [
      "Model: \"sequential\"\n",
      "_________________________________________________________________\n",
      " Layer (type)                Output Shape              Param #   \n",
      "=================================================================\n",
      " embedding (Embedding)       (None, None, 32)          320000    \n",
      "                                                                 \n",
      " lstm (LSTM)                 (None, 32)                8320      \n",
      "                                                                 \n",
      " dense (Dense)               (None, 1)                 33        \n",
      "                                                                 \n",
      "=================================================================\n",
      "Total params: 328,353\n",
      "Trainable params: 328,353\n",
      "Non-trainable params: 0\n",
      "_________________________________________________________________\n"
     ]
    }
   ],
   "source": [
    "from tensorflow.keras import models\n",
    "from tensorflow.keras import layers\n",
    "\n",
    "network = models.Sequential()\n",
    "network.add(layers.Embedding(max_features, 32))\n",
    "network.add(layers.LSTM(32))\n",
    "network.add(layers.Dense(1, activation='sigmoid'))\n",
    "\n",
    "network.summary()"
   ]
  },
  {
   "cell_type": "markdown",
   "id": "b72a77d4",
   "metadata": {},
   "source": [
    "**学习网络**\n",
    "+ 优化方法：rmsprop\n",
    "+ 损失函数：binary_crossentropy\n",
    "+ 分类正确率作为度量\n",
    "+ 学习10个回合，每个batch 128个样本，保留$20\\%$的训练样本做为验证集"
   ]
  },
  {
   "cell_type": "code",
   "execution_count": 3,
   "id": "dcbcfc23",
   "metadata": {},
   "outputs": [
    {
     "name": "stdout",
     "output_type": "stream",
     "text": [
      "Epoch 1/10\n",
      "157/157 [==============================] - 37s 221ms/step - loss: 0.4951 - acc: 0.7677 - val_loss: 0.5223 - val_acc: 0.8026\n",
      "Epoch 2/10\n",
      "157/157 [==============================] - 34s 219ms/step - loss: 0.2881 - acc: 0.8879 - val_loss: 0.3180 - val_acc: 0.8722\n",
      "Epoch 3/10\n",
      "157/157 [==============================] - 35s 223ms/step - loss: 0.2336 - acc: 0.9131 - val_loss: 0.6611 - val_acc: 0.7496\n",
      "Epoch 4/10\n",
      "157/157 [==============================] - 35s 226ms/step - loss: 0.2012 - acc: 0.9262 - val_loss: 0.3135 - val_acc: 0.8910\n",
      "Epoch 5/10\n",
      "157/157 [==============================] - 35s 220ms/step - loss: 0.1728 - acc: 0.9386 - val_loss: 0.4551 - val_acc: 0.8546\n",
      "Epoch 6/10\n",
      "157/157 [==============================] - 35s 220ms/step - loss: 0.1599 - acc: 0.9406 - val_loss: 0.3181 - val_acc: 0.8848\n",
      "Epoch 7/10\n",
      "157/157 [==============================] - 35s 220ms/step - loss: 0.1444 - acc: 0.9478 - val_loss: 0.3198 - val_acc: 0.8916\n",
      "Epoch 8/10\n",
      "157/157 [==============================] - 34s 220ms/step - loss: 0.1257 - acc: 0.9566 - val_loss: 0.3337 - val_acc: 0.8862\n",
      "Epoch 9/10\n",
      "157/157 [==============================] - 35s 220ms/step - loss: 0.1197 - acc: 0.9582 - val_loss: 0.3335 - val_acc: 0.8842\n",
      "Epoch 10/10\n",
      "157/157 [==============================] - 35s 221ms/step - loss: 0.1111 - acc: 0.9617 - val_loss: 0.3331 - val_acc: 0.8800\n"
     ]
    }
   ],
   "source": [
    "network.compile(optimizer='rmsprop', loss='binary_crossentropy', metrics=['acc'])\n",
    "history = network.fit(x_train, y_train,epochs=10,batch_size=128,validation_split=0.2)"
   ]
  },
  {
   "cell_type": "markdown",
   "id": "616cab0e",
   "metadata": {},
   "source": [
    "**测试网络性能**\n",
    "+ 分别使用训练集和测试集样本评估网络性能"
   ]
  },
  {
   "cell_type": "code",
   "execution_count": 4,
   "id": "0e66f1e4",
   "metadata": {},
   "outputs": [
    {
     "name": "stdout",
     "output_type": "stream",
     "text": [
      "782/782 [==============================] - 27s 35ms/step - loss: 0.1339 - acc: 0.9547\n",
      "782/782 [==============================] - 27s 35ms/step - loss: 0.3910 - acc: 0.8582\n",
      "\n",
      "Train Accuracy:      0.9546800255775452\n",
      "Test Accuracy:       0.8581600189208984\n"
     ]
    }
   ],
   "source": [
    "train_loss, train_acc = network.evaluate(x_train,y_train)\n",
    "test_loss, test_acc = network.evaluate(x_test,y_test)\n",
    "\n",
    "print('\\nTrain Accuracy:     ', train_acc)\n",
    "print('Test Accuracy:      ', test_acc)"
   ]
  },
  {
   "cell_type": "markdown",
   "id": "740dff5f",
   "metadata": {},
   "source": [
    "**显示网络学习过程**"
   ]
  },
  {
   "cell_type": "code",
   "execution_count": 5,
   "id": "a32e70f1",
   "metadata": {},
   "outputs": [
    {
     "data": {
      "image/png": "[encoded data removed]",
      "text/plain": [
       "<Figure size 432x288 with 1 Axes>"
      ]
     },
     "metadata": {
      "needs_background": "light"
     },
     "output_type": "display_data"
    }
   ],
   "source": [
    "import matplotlib.pyplot as plt\n",
    "\n",
    "acc = history.history['acc']\n",
    "val_acc = history.history['val_acc']\n",
    "\n",
    "epochs = range(1, len(acc) + 1)\n",
    "plt.plot(epochs, acc, 'b', label='Training acc')\n",
    "plt.plot(epochs, val_acc, 'r', label='Validation acc')\n",
    "plt.title('Training and validation accuracy')\n",
    "plt.legend(); plt.show()"
   ]
  }
 ],
 "metadata": {
  "kernelspec": {
   "display_name": "Python 3.8.7 64-bit",
   "language": "python",
   "name": "python3"
  },
  "language_info": {
   "codemirror_mode": {
    "name": "ipython",
    "version": 3
   },
   "file_extension": ".py",
   "mimetype": "text/x-python",
   "name": "python",
   "nbconvert_exporter": "python",
   "pygments_lexer": "ipython3",
   "version": "3.8.7"
  },
  "varInspector": {
   "cols": {
    "lenName": 16,
    "lenType": 16,
    "lenVar": 40
   },
   "kernels_config": {
    "python": {
     "delete_cmd_postfix": "",
     "delete_cmd_prefix": "del ",
     "library": "var_list.py",
     "varRefreshCmd": "print(var_dic_list())"
    },
    "r": {
     "delete_cmd_postfix": ") ",
     "delete_cmd_prefix": "rm(",
     "library": "var_list.r",
     "varRefreshCmd": "cat(var_dic_list()) "
    }
   },
   "types_to_exclude": [
    "module",
    "function",
    "builtin_function_or_method",
    "instance",
    "_Feature"
   ],
   "window_display": false
  },
  "vscode": {
   "interpreter": {
    "hash": "e0144baad0ecee903f108a3e46e51ceadd7da3fc904cfa79747d813b61464b4e"
   }
  }
 },
 "nbformat": 4,
 "nbformat_minor": 5
}
