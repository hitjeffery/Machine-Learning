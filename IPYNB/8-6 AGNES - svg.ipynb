{
 "cells": [
  {
   "cell_type": "code",
   "execution_count": 1,
   "metadata": {},
   "outputs": [],
   "source": [
    "import numpy as np\n",
    "import matplotlib.pyplot as plt\n",
    "%matplotlib inline\n",
    "%config InlineBackend.figure_format = 'svg'\n",
    "from sklearn.cluster import AgglomerativeClustering\n",
    "from sklearn.neighbors import KernelDensity\n",
    "\n",
    "X = np.array([[0.697,0.460],[0.774,0.376],[0.634,0.264],[0.608,0.318],[0.556,0.215],\n",
    "              [0.403,0.237],[0.481,0.149],[0.437,0.211],[0.666,0.091],[0.243,0.267],\n",
    "              [0.245,0.057],[0.343,0.099],[0.639,0.161],[0.657,0.198],[0.360,0.370],\n",
    "              [0.593,0.042],[0.719,0.103],[0.359,0.188],[0.339,0.241],[0.282,0.257],\n",
    "              [0.748,0.232],[0.714,0.346],[0.483,0.312],[0.478,0.437],[0.525,0.369],\n",
    "              [0.751,0.489],[0.532,0.472],[0.473,0.376],[0.725,0.445],[0.446,0.459]])\n",
    "\n",
    "eps = X.std() / 2.\n",
    "x_min, x_max = X[:, 0].min() - eps, X[:, 0].max() + eps\n",
    "y_min, y_max = X[:, 1].min() - eps, X[:, 1].max() + eps\n",
    "\n",
    "xx, yy = np.meshgrid(np.linspace(x_min, x_max, 100), np.linspace(y_min, y_max, 100))\n",
    "gridpoints = np.c_[xx.ravel().reshape(-1, 1), yy.ravel().reshape(-1, 1)]\n",
    "\n",
    "#fig, axes = plt.subplots(6,4,figsize=(25, 20))\n",
    "agg = AgglomerativeClustering(linkage='complete',compute_full_tree=True,n_clusters=7)\n",
    "#for i, ax in zip(range(24),axes.reshape(24,1)):\n",
    "for i in range(24):\n",
    "    agg.n_clusters = X.shape[0] - i\n",
    "    Labels = agg.fit_predict(X)\n",
    "\n",
    "    #ax[0].scatter(X[:,0], X[:,1], s=60, c='grey')\n",
    "    #ax[0].set_xticks(())\n",
    "    #ax[0].set_yticks(())\n",
    "\n",
    "    plt.cla()\n",
    "    plt.scatter(X[:,0], X[:,1], s=60, c='grey')\n",
    "    plt.xticks(())\n",
    "    plt.yticks(())\n",
    "    plt.xlim(x_min, x_max)\n",
    "    plt.ylim(y_min, y_max)\n",
    "\n",
    "    bins = np.bincount(agg.labels_)\n",
    "    for cluster in range(agg.n_clusters):\n",
    "        if bins[cluster] > 1:\n",
    "            points = X[Labels==cluster]\n",
    "            other_points = X[Labels!=cluster]\n",
    "\n",
    "            kde = KernelDensity(bandwidth=.05).fit(points)\n",
    "            scores = kde.score_samples(gridpoints)\n",
    "            score_inside = np.min(kde.score_samples(points))\n",
    "            score_outside = np.max(kde.score_samples(other_points))\n",
    "            levels = .8 * score_inside + .2 * score_outside\n",
    "            #ax[0].contour(xx, yy, scores.reshape(100, 100), levels=[levels],colors='k', linestyles='solid', linewidths=1)\n",
    "            plt.contour(xx, yy, scores.reshape(100, 100), levels=[levels],colors='k', linestyles='solid', linewidths=1)\n",
    "\n",
    "    plt.savefig('h:\\\\8-10-%d.svg' %(i),bbox_inches='tight')\n",
    "    plt.close()\n",
    "\n",
    "plt.show()"
   ]
  }
 ],
 "metadata": {
  "kernelspec": {
   "display_name": "Python 3.8.7 64-bit",
   "language": "python",
   "name": "python3"
  },
  "language_info": {
   "codemirror_mode": {
    "name": "ipython",
    "version": 3
   },
   "file_extension": ".py",
   "mimetype": "text/x-python",
   "name": "python",
   "nbconvert_exporter": "python",
   "pygments_lexer": "ipython3",
   "version": "3.8.7"
  },
  "orig_nbformat": 4,
  "vscode": {
   "interpreter": {
    "hash": "e0144baad0ecee903f108a3e46e51ceadd7da3fc904cfa79747d813b61464b4e"
   }
  }
 },
 "nbformat": 4,
 "nbformat_minor": 2
}
