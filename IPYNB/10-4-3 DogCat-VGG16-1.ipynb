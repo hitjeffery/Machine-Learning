{
 "cells": [
  {
   "cell_type": "markdown",
   "id": "7f0cd6a9",
   "metadata": {},
   "source": [
    "#### 猫-狗分类网络改进：使用预学习网络\n",
    "\n",
    "**图像数据导入为dataset**"
   ]
  },
  {
   "cell_type": "code",
   "execution_count": 1,
   "id": "c4255d75",
   "metadata": {},
   "outputs": [
    {
     "name": "stdout",
     "output_type": "stream",
     "text": [
      "Found 2000 files belonging to 2 classes.\n",
      "Found 1000 files belonging to 2 classes.\n",
      "Found 1000 files belonging to 2 classes.\n"
     ]
    }
   ],
   "source": [
    "from tensorflow.keras.utils import image_dataset_from_directory\n",
    "\n",
    "train_dir = 'cats_and_dogs_small/train'\n",
    "validation_dir = 'cats_and_dogs_small/validation'\n",
    "test_dir = 'cats_and_dogs_small/test'\n",
    "\n",
    "train_dataset = image_dataset_from_directory(train_dir,labels='inferred',image_size=(150,150),batch_size=20,label_mode='binary')\n",
    "validation_dataset = image_dataset_from_directory(validation_dir,labels='inferred',image_size=(150,150),batch_size=20,label_mode='binary')\n",
    "test_dataset = image_dataset_from_directory(test_dir,labels='inferred',image_size=(150,150),batch_size=20,label_mode='binary')"
   ]
  },
  {
   "cell_type": "markdown",
   "id": "3b94d225",
   "metadata": {},
   "source": [
    "**构建数据增广网络**"
   ]
  },
  {
   "cell_type": "code",
   "execution_count": 2,
   "id": "0ee759dd",
   "metadata": {},
   "outputs": [
    {
     "name": "stdout",
     "output_type": "stream",
     "text": [
      "Model: \"Data_Augmentation\"\n",
      "_________________________________________________________________\n",
      " Layer (type)                Output Shape              Param #   \n",
      "=================================================================\n",
      " random_rotation (RandomRota  (None, 150, 150, 3)      0         \n",
      " tion)                                                           \n",
      "                                                                 \n",
      " random_flip (RandomFlip)    (None, 150, 150, 3)       0         \n",
      "                                                                 \n",
      " random_zoom (RandomZoom)    (None, 150, 150, 3)       0         \n",
      "                                                                 \n",
      "=================================================================\n",
      "Total params: 0\n",
      "Trainable params: 0\n",
      "Non-trainable params: 0\n",
      "_________________________________________________________________\n"
     ]
    }
   ],
   "source": [
    "from tensorflow.keras import layers\n",
    "from tensorflow.keras import models\n",
    "\n",
    "data_augmentation = models.Sequential(name='Data_Augmentation')\n",
    "data_augmentation.add(layers.Input(shape=(150,150,3)))\n",
    "data_augmentation.add(layers.RandomRotation(factor=(-0.12,+0.12)))\n",
    "data_augmentation.add(layers.RandomFlip(mode='horizontal'))\n",
    "data_augmentation.add(layers.RandomZoom(height_factor=(-0.2, 0.2)))\n",
    "\n",
    "data_augmentation.summary()"
   ]
  },
  {
   "cell_type": "markdown",
   "id": "5be676ba",
   "metadata": {},
   "source": [
    "**导入预学习网络**\n",
    "+ 导入VGG16网络\n",
    "+ 使用在ImageNet数据集上预学习的参数\n",
    "+ 不包含原网络的分类部分，仅保留卷积部分\n",
    "+ 输入层设定为：$150\\times150\\times3$"
   ]
  },
  {
   "cell_type": "code",
   "execution_count": 3,
   "id": "6950b188",
   "metadata": {},
   "outputs": [
    {
     "name": "stdout",
     "output_type": "stream",
     "text": [
      "Model: \"vgg16\"\n",
      "_________________________________________________________________\n",
      " Layer (type)                Output Shape              Param #   \n",
      "=================================================================\n",
      " input_2 (InputLayer)        [(None, 150, 150, 3)]     0         \n",
      "                                                                 \n",
      " block1_conv1 (Conv2D)       (None, 150, 150, 64)      1792      \n",
      "                                                                 \n",
      " block1_conv2 (Conv2D)       (None, 150, 150, 64)      36928     \n",
      "                                                                 \n",
      " block1_pool (MaxPooling2D)  (None, 75, 75, 64)        0         \n",
      "                                                                 \n",
      " block2_conv1 (Conv2D)       (None, 75, 75, 128)       73856     \n",
      "                                                                 \n",
      " block2_conv2 (Conv2D)       (None, 75, 75, 128)       147584    \n",
      "                                                                 \n",
      " block2_pool (MaxPooling2D)  (None, 37, 37, 128)       0         \n",
      "                                                                 \n",
      " block3_conv1 (Conv2D)       (None, 37, 37, 256)       295168    \n",
      "                                                                 \n",
      " block3_conv2 (Conv2D)       (None, 37, 37, 256)       590080    \n",
      "                                                                 \n",
      " block3_conv3 (Conv2D)       (None, 37, 37, 256)       590080    \n",
      "                                                                 \n",
      " block3_pool (MaxPooling2D)  (None, 18, 18, 256)       0         \n",
      "                                                                 \n",
      " block4_conv1 (Conv2D)       (None, 18, 18, 512)       1180160   \n",
      "                                                                 \n",
      " block4_conv2 (Conv2D)       (None, 18, 18, 512)       2359808   \n",
      "                                                                 \n",
      " block4_conv3 (Conv2D)       (None, 18, 18, 512)       2359808   \n",
      "                                                                 \n",
      " block4_pool (MaxPooling2D)  (None, 9, 9, 512)         0         \n",
      "                                                                 \n",
      " block5_conv1 (Conv2D)       (None, 9, 9, 512)         2359808   \n",
      "                                                                 \n",
      " block5_conv2 (Conv2D)       (None, 9, 9, 512)         2359808   \n",
      "                                                                 \n",
      " block5_conv3 (Conv2D)       (None, 9, 9, 512)         2359808   \n",
      "                                                                 \n",
      " block5_pool (MaxPooling2D)  (None, 4, 4, 512)         0         \n",
      "                                                                 \n",
      "=================================================================\n",
      "Total params: 14,714,688\n",
      "Trainable params: 14,714,688\n",
      "Non-trainable params: 0\n",
      "_________________________________________________________________\n"
     ]
    }
   ],
   "source": [
    "from tensorflow.keras.applications import VGG16\n",
    "\n",
    "conv_base = VGG16(weights='imagenet',include_top=False,input_shape=(150, 150, 3))\n",
    "\n",
    "conv_base.summary()"
   ]
  },
  {
   "cell_type": "markdown",
   "id": "12529c8b",
   "metadata": {},
   "source": [
    "**构建网络**\n",
    "\n",
    "+ 加入输入层和预处理网络\n",
    "+ 加入VGG16预学习网络，将所有卷积核的参数设置为不可学习\n",
    "+ 增加全连接层：256个神经元\n",
    "+ 增加输出层：1个神经元，激活函数sigmoid"
   ]
  },
  {
   "cell_type": "code",
   "execution_count": 4,
   "id": "fbeebcce",
   "metadata": {},
   "outputs": [
    {
     "name": "stdout",
     "output_type": "stream",
     "text": [
      "Model: \"sequential\"\n",
      "_________________________________________________________________\n",
      " Layer (type)                Output Shape              Param #   \n",
      "=================================================================\n",
      " Data_Augmentation (Sequenti  (None, 150, 150, 3)      0         \n",
      " al)                                                             \n",
      "                                                                 \n",
      " vgg16 (Functional)          (None, 4, 4, 512)         14714688  \n",
      "                                                                 \n",
      " flatten (Flatten)           (None, 8192)              0         \n",
      "                                                                 \n",
      " dense (Dense)               (None, 256)               2097408   \n",
      "                                                                 \n",
      " dense_1 (Dense)             (None, 1)                 257       \n",
      "                                                                 \n",
      "=================================================================\n",
      "Total params: 16,812,353\n",
      "Trainable params: 2,097,665\n",
      "Non-trainable params: 14,714,688\n",
      "_________________________________________________________________\n"
     ]
    }
   ],
   "source": [
    "from tensorflow.keras import models\n",
    "from tensorflow.keras import layers\n",
    "\n",
    "conv_base.trainable = False\n",
    "\n",
    "network = models.Sequential()\n",
    "network.add(layers.Input(shape=(150,150,3)))\n",
    "network.add(data_augmentation)\n",
    "network.add(conv_base)\n",
    "network.add(layers.Flatten())\n",
    "network.add(layers.Dense(256, activation='relu'))\n",
    "network.add(layers.Dense(1, activation='sigmoid'))\n",
    "\n",
    "network.summary()"
   ]
  },
  {
   "cell_type": "markdown",
   "id": "d3597d79",
   "metadata": {},
   "source": [
    "**学习网络**\n",
    "+ 优化算法：RMSprop，学习率$0.00002$\n",
    "+ 损失函数：binary_crossentropy\n",
    "+ 以分类正确率作为度量指标\n",
    "+ 学习30个回合，每个回合迭代100个batch，每个batch为20个训练样本\n",
    "+ 学习样本为训练集dataset\n",
    "+ 验证集dataset仅作为观察数据，每20次迭代观察一次"
   ]
  },
  {
   "cell_type": "code",
   "execution_count": 5,
   "id": "da41a9cb",
   "metadata": {},
   "outputs": [
    {
     "name": "stdout",
     "output_type": "stream",
     "text": [
      "Epoch 1/30\n",
      "100/100 [==============================] - 17s 124ms/step - loss: 2.3006 - acc: 0.7555 - val_loss: 1.1396 - val_acc: 0.8925\n",
      "Epoch 2/30\n",
      "100/100 [==============================] - 13s 126ms/step - loss: 1.2563 - acc: 0.8405 - val_loss: 0.9642 - val_acc: 0.9175\n",
      "Epoch 3/30\n",
      "100/100 [==============================] - 13s 127ms/step - loss: 0.8649 - acc: 0.8720 - val_loss: 0.8281 - val_acc: 0.9275\n",
      "Epoch 4/30\n",
      "100/100 [==============================] - 13s 126ms/step - loss: 0.7869 - acc: 0.8955 - val_loss: 0.9573 - val_acc: 0.9175\n",
      "Epoch 5/30\n",
      "100/100 [==============================] - 12s 124ms/step - loss: 0.6668 - acc: 0.9000 - val_loss: 0.5693 - val_acc: 0.9350\n",
      "Epoch 6/30\n",
      "100/100 [==============================] - 12s 124ms/step - loss: 0.7066 - acc: 0.9025 - val_loss: 0.7707 - val_acc: 0.9225\n",
      "Epoch 7/30\n",
      "100/100 [==============================] - 12s 125ms/step - loss: 0.5975 - acc: 0.9120 - val_loss: 0.7121 - val_acc: 0.9300\n",
      "Epoch 8/30\n",
      "100/100 [==============================] - 13s 126ms/step - loss: 0.5513 - acc: 0.9125 - val_loss: 0.8265 - val_acc: 0.9300\n",
      "Epoch 9/30\n",
      "100/100 [==============================] - 13s 127ms/step - loss: 0.4286 - acc: 0.9280 - val_loss: 0.8096 - val_acc: 0.9300\n",
      "Epoch 10/30\n",
      "100/100 [==============================] - 13s 131ms/step - loss: 0.3616 - acc: 0.9330 - val_loss: 0.8636 - val_acc: 0.9325\n",
      "Epoch 11/30\n",
      "100/100 [==============================] - 13s 129ms/step - loss: 0.4599 - acc: 0.9250 - val_loss: 0.7690 - val_acc: 0.9325\n",
      "Epoch 12/30\n",
      "100/100 [==============================] - 13s 129ms/step - loss: 0.3800 - acc: 0.9340 - val_loss: 0.7271 - val_acc: 0.9350\n",
      "Epoch 13/30\n",
      "100/100 [==============================] - 13s 128ms/step - loss: 0.3526 - acc: 0.9335 - val_loss: 0.8393 - val_acc: 0.9300\n",
      "Epoch 14/30\n",
      "100/100 [==============================] - 13s 132ms/step - loss: 0.2783 - acc: 0.9445 - val_loss: 0.7314 - val_acc: 0.9425\n",
      "Epoch 15/30\n",
      "100/100 [==============================] - 13s 131ms/step - loss: 0.2987 - acc: 0.9440 - val_loss: 0.6409 - val_acc: 0.9375\n",
      "Epoch 16/30\n",
      "100/100 [==============================] - 13s 132ms/step - loss: 0.2930 - acc: 0.9465 - val_loss: 0.6336 - val_acc: 0.9375\n",
      "Epoch 17/30\n",
      "100/100 [==============================] - 13s 133ms/step - loss: 0.2878 - acc: 0.9470 - val_loss: 0.5949 - val_acc: 0.9475\n",
      "Epoch 18/30\n",
      "100/100 [==============================] - 14s 135ms/step - loss: 0.2565 - acc: 0.9465 - val_loss: 0.7540 - val_acc: 0.9350\n",
      "Epoch 19/30\n",
      "100/100 [==============================] - 13s 133ms/step - loss: 0.1950 - acc: 0.9615 - val_loss: 0.6548 - val_acc: 0.9425\n",
      "Epoch 20/30\n",
      "100/100 [==============================] - 13s 131ms/step - loss: 0.2068 - acc: 0.9575 - val_loss: 0.6926 - val_acc: 0.9325\n",
      "Epoch 21/30\n",
      "100/100 [==============================] - 13s 129ms/step - loss: 0.1980 - acc: 0.9630 - val_loss: 0.6280 - val_acc: 0.9300\n",
      "Epoch 22/30\n",
      "100/100 [==============================] - 13s 128ms/step - loss: 0.2329 - acc: 0.9530 - val_loss: 0.6645 - val_acc: 0.9450\n",
      "Epoch 23/30\n",
      "100/100 [==============================] - 13s 128ms/step - loss: 0.1851 - acc: 0.9560 - val_loss: 0.6408 - val_acc: 0.9300\n",
      "Epoch 24/30\n",
      "100/100 [==============================] - 13s 127ms/step - loss: 0.2011 - acc: 0.9555 - val_loss: 0.6854 - val_acc: 0.9300\n",
      "Epoch 25/30\n",
      "100/100 [==============================] - 13s 125ms/step - loss: 0.1797 - acc: 0.9610 - val_loss: 0.6441 - val_acc: 0.9275\n",
      "Epoch 26/30\n",
      "100/100 [==============================] - 13s 126ms/step - loss: 0.1368 - acc: 0.9725 - val_loss: 0.6642 - val_acc: 0.9350\n",
      "Epoch 27/30\n",
      "100/100 [==============================] - 13s 126ms/step - loss: 0.1382 - acc: 0.9640 - val_loss: 0.5982 - val_acc: 0.9275\n",
      "Epoch 28/30\n",
      "100/100 [==============================] - 13s 126ms/step - loss: 0.1487 - acc: 0.9660 - val_loss: 0.6931 - val_acc: 0.9275\n",
      "Epoch 29/30\n",
      "100/100 [==============================] - 13s 126ms/step - loss: 0.1210 - acc: 0.9685 - val_loss: 0.6612 - val_acc: 0.9350\n",
      "Epoch 30/30\n",
      "100/100 [==============================] - 13s 128ms/step - loss: 0.1470 - acc: 0.9605 - val_loss: 0.5594 - val_acc: 0.9325\n"
     ]
    }
   ],
   "source": [
    "from tensorflow.keras import optimizers\n",
    "\n",
    "network.compile(loss='binary_crossentropy',optimizer=optimizers.RMSprop(learning_rate=2e-5),metrics=['acc'])\n",
    "history = network.fit(train_dataset,steps_per_epoch=100,epochs=30,validation_data=validation_dataset,validation_steps=20)"
   ]
  },
  {
   "cell_type": "markdown",
   "id": "9098ed0d",
   "metadata": {},
   "source": [
    "**测试网络**\n",
    "+ 分别使用训练集、验证集和测试集评估网络的性能"
   ]
  },
  {
   "cell_type": "code",
   "execution_count": 6,
   "id": "24fd5cdc",
   "metadata": {},
   "outputs": [
    {
     "name": "stdout",
     "output_type": "stream",
     "text": [
      "100/100 [==============================] - 10s 97ms/step - loss: 0.0637 - acc: 0.9910\n",
      "50/50 [==============================] - 5s 96ms/step - loss: 0.6060 - acc: 0.9350\n",
      "50/50 [==============================] - 5s 96ms/step - loss: 0.5998 - acc: 0.9420\n",
      "\n",
      "Train Accuracy:      0.9909999966621399\n",
      "Validation Accuracy: 0.9350000023841858\n",
      "Test Accuracy:       0.9419999718666077\n"
     ]
    }
   ],
   "source": [
    "train_loss, train_acc = network.evaluate(train_dataset)\n",
    "validation_loss, validation_acc = network.evaluate(validation_dataset)\n",
    "test_loss, test_acc = network.evaluate(test_dataset)\n",
    "\n",
    "print('\\nTrain Accuracy:     ', train_acc)\n",
    "print('Validation Accuracy:', validation_acc)\n",
    "print('Test Accuracy:      ', test_acc)"
   ]
  },
  {
   "cell_type": "markdown",
   "id": "a5459faa",
   "metadata": {},
   "source": [
    "**显示学习过程**"
   ]
  },
  {
   "cell_type": "code",
   "execution_count": 7,
   "id": "b617b575",
   "metadata": {},
   "outputs": [
    {
     "data": {
      "text/plain": [
       "<matplotlib.legend.Legend at 0x24634bbe5c0>"
      ]
     },
     "execution_count": 7,
     "metadata": {},
     "output_type": "execute_result"
    },
    {
     "data": {
      "image/png": "[encoded data removed]",
      "text/plain": [
       "<Figure size 432x288 with 1 Axes>"
      ]
     },
     "metadata": {
      "needs_background": "light"
     },
     "output_type": "display_data"
    }
   ],
   "source": [
    "import matplotlib.pyplot as plt\n",
    "\n",
    "acc = history.history['acc']\n",
    "val_acc = history.history['val_acc']\n",
    "\n",
    "epochs = range(1, len(acc) + 1)\n",
    "plt.plot(epochs, acc, 'b', label='Training acc')\n",
    "plt.plot(epochs, val_acc, 'r', label='Validation acc')\n",
    "plt.title('Training and validation accuracy')\n",
    "plt.legend()"
   ]
  }
 ],
 "metadata": {
  "kernelspec": {
   "display_name": "Python 3.8.7 64-bit",
   "language": "python",
   "name": "python3"
  },
  "language_info": {
   "codemirror_mode": {
    "name": "ipython",
    "version": 3
   },
   "file_extension": ".py",
   "mimetype": "text/x-python",
   "name": "python",
   "nbconvert_exporter": "python",
   "pygments_lexer": "ipython3",
   "version": "3.8.7"
  },
  "varInspector": {
   "cols": {
    "lenName": 16,
    "lenType": 16,
    "lenVar": 40
   },
   "kernels_config": {
    "python": {
     "delete_cmd_postfix": "",
     "delete_cmd_prefix": "del ",
     "library": "var_list.py",
     "varRefreshCmd": "print(var_dic_list())"
    },
    "r": {
     "delete_cmd_postfix": ") ",
     "delete_cmd_prefix": "rm(",
     "library": "var_list.r",
     "varRefreshCmd": "cat(var_dic_list()) "
    }
   },
   "types_to_exclude": [
    "module",
    "function",
    "builtin_function_or_method",
    "instance",
    "_Feature"
   ],
   "window_display": false
  },
  "vscode": {
   "interpreter": {
    "hash": "e0144baad0ecee903f108a3e46e51ceadd7da3fc904cfa79747d813b61464b4e"
   }
  }
 },
 "nbformat": 4,
 "nbformat_minor": 5
}
