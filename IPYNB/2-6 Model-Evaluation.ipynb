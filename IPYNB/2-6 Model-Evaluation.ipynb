{
 "cells": [
  {
   "cell_type": "markdown",
   "metadata": {},
   "source": [
    "#### 模型性能评价\n",
    "\n",
    "+ 读取Boston房价数据\n",
    "+ 生成二次属性"
   ]
  },
  {
   "cell_type": "code",
   "execution_count": 1,
   "metadata": {},
   "outputs": [
    {
     "name": "stdout",
     "output_type": "stream",
     "text": [
      "Shape of Extened Features: (506, 104)\n",
      "Shape of y: (506, 1)\n"
     ]
    }
   ],
   "source": [
    "import pandas as pd\n",
    "import numpy as np\n",
    "from sklearn.preprocessing import PolynomialFeatures\n",
    "\n",
    "data = pd.read_csv(\"Boston_Housing.csv\",header=None,delimiter=r\"\\s+\")\n",
    "\n",
    "X = data.iloc[:,0:13].to_numpy()\n",
    "y = data.iloc[:,13].to_numpy().reshape(-1,1)\n",
    "\n",
    "poly = PolynomialFeatures(degree=2,include_bias=False)\n",
    "X_extend = poly.fit_transform(X)\n",
    "\n",
    "print(\"Shape of Extened Features:\", X_extend.shape)\n",
    "print(\"Shape of y:\", y.shape)"
   ]
  },
  {
   "cell_type": "markdown",
   "metadata": {},
   "source": [
    "**最小二乘回归模型评价**\n",
    "\n",
    "\n",
    "$$(\\mathbf{w}^*,b^*) = \\arg\\min_{\\mathbf{w},b}{\\frac{1}{m}\\sum_{i=1}^m{(\\mathbf{w}^t\\mathbf{x}_i+b-y_i)^2}}$$\n",
    "\n",
    "+ 使用函数train_test_split将数据集划分为训练集(X_train,y_train)和测试集(X_test,y_test)，默认划分比例为3:1\n",
    "+ 使用训练集(X_train,y_train)学习线性回归模型\n",
    "+ 分别使用训练集和测试集(X_test,y_test)测试模型性能"
   ]
  },
  {
   "cell_type": "code",
   "execution_count": 11,
   "metadata": {},
   "outputs": [
    {
     "name": "stdout",
     "output_type": "stream",
     "text": [
      "Shape of train set: (379, 104) (379, 1)\n",
      "Shape of test set: (127, 104) (127, 1)\n",
      "\n",
      "Linear Regression:\n",
      "\t Train set score: 0.95\n",
      "\t Test set score: 0.61\n",
      "\n"
     ]
    }
   ],
   "source": [
    "from sklearn.model_selection import train_test_split\n",
    "from sklearn.linear_model import LinearRegression\n",
    "\n",
    "X_train, X_test, y_train, y_test = train_test_split(X_extend, y, random_state=0)\n",
    "\n",
    "print(\"Shape of train set:\", X_train.shape, y_train.shape)\n",
    "print(\"Shape of test set:\", X_test.shape, y_test.shape)\n",
    "\n",
    "LR = LinearRegression().fit(X_train, y_train)\n",
    "\n",
    "print(\"\\nLinear Regression:\")\n",
    "print(\"\\t Train set score: {:.2f}\".format(LR.score(X_train, y_train)))\n",
    "print(\"\\t Test set score: {:.2f}\\n\".format(LR.score(X_test, y_test)))"
   ]
  },
  {
   "cell_type": "markdown",
   "metadata": {},
   "source": [
    "#### 岭回归（Ridge Regression）\n",
    "\n",
    "$$(\\mathbf{w}^*,b^*) = \\arg\\min_{\\mathbf{w},b}{\\frac{1}{m}\\sum_{i=1}^m{(\\mathbf{w}^t\\mathbf{x}_i+b-y_i)^2} + \\alpha\\|\\mathbf{w}\\|_2^2}$$\n",
    "\n",
    "+ 使用训练集学习岭回归模型\n",
    "+ 分别使用训练集和测试集(X_test,y_test)测试模型性能"
   ]
  },
  {
   "cell_type": "code",
   "execution_count": 19,
   "metadata": {},
   "outputs": [
    {
     "name": "stdout",
     "output_type": "stream",
     "text": [
      "Ridge Linear Regression:\n",
      "\t Training set score: 0.93\n",
      "\t Test set score: 0.76\n",
      "\n"
     ]
    }
   ],
   "source": [
    "from sklearn.linear_model import Ridge\n",
    "\n",
    "ridge = Ridge(alpha=100).fit(X_train, y_train)\n",
    "\n",
    "print(\"Ridge Linear Regression:\")\n",
    "print(\"\\t Training set score: {:.2f}\".format(ridge.score(X_train, y_train)))\n",
    "print(\"\\t Test set score: {:.2f}\\n\".format(ridge.score(X_test, y_test)))"
   ]
  }
 ],
 "metadata": {
  "kernelspec": {
   "display_name": "Python 3.8.7 64-bit",
   "language": "python",
   "name": "python3"
  },
  "language_info": {
   "codemirror_mode": {
    "name": "ipython",
    "version": 3
   },
   "file_extension": ".py",
   "mimetype": "text/x-python",
   "name": "python",
   "nbconvert_exporter": "python",
   "pygments_lexer": "ipython3",
   "version": "3.8.7"
  },
  "orig_nbformat": 4,
  "vscode": {
   "interpreter": {
    "hash": "e0144baad0ecee903f108a3e46e51ceadd7da3fc904cfa79747d813b61464b4e"
   }
  }
 },
 "nbformat": 4,
 "nbformat_minor": 2
}
