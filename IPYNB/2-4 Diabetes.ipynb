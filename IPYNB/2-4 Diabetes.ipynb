{
 "cells": [
  {
   "cell_type": "markdown",
   "metadata": {},
   "source": [
    "### Diabetes数据分类\n",
    "\n",
    "**预测某人是否患有糖尿病**\n",
    "+ 数据文件：Diabetes.csv\n",
    "+ 属性\n",
    "    - $x_1$：怀孕次数 pregnancies\n",
    "    - $x_2$：血浆葡萄糖浓度 plasma glucose concentration\n",
    "    - $x_3$：舒张压 diastolic blood pressure\n",
    "    - $x_4$：三头肌皮下脂肪 triceps skinfold thickness\n",
    "    - $x_5$：胰岛素水平 insulin\n",
    "    - $x_6$：体重指数 body mass index\n",
    "    - $x_7$：糖尿病家族遗传因素 diabetes pedigree function\n",
    "    - $x_8$：年龄 age\n",
    "+ 预测输出$y$：是否患有糖尿病 diabetic"
   ]
  },
  {
   "cell_type": "code",
   "execution_count": 6,
   "metadata": {},
   "outputs": [
    {
     "name": "stdout",
     "output_type": "stream",
     "text": [
      "X: (768, 8)\n",
      "[[6.00e+00 1.48e+02 7.20e+01 3.50e+01 0.00e+00 3.36e+01 6.27e-01 5.00e+01]\n",
      " [1.00e+00 8.50e+01 6.60e+01 2.90e+01 0.00e+00 2.66e+01 3.51e-01 3.10e+01]\n",
      " [8.00e+00 1.83e+02 6.40e+01 0.00e+00 0.00e+00 2.33e+01 6.72e-01 3.20e+01]\n",
      " [1.00e+00 8.90e+01 6.60e+01 2.30e+01 9.40e+01 2.81e+01 1.67e-01 2.10e+01]]\n",
      "\n",
      "y: (768,)\n",
      "[0 1 0 1 0 1 0 1 1 0 1 0 1 1 1 1 1 0 1 0 0 1 1 1 1 1 0 0 0 0 1 0 0 0 0 0 1\n",
      " 1 1 0 0 0 1 0 1 0 0 1 0 0 0 0 1 0 0 1 0 0 0 0 1 0 0 1 0 1 0 0 0 1 0 1 0 0\n",
      " 0 0 0 1 0 0 0 0 0 1 0 0 0 1 0 0 0 0 1 0 0 0 0 0 1]\n"
     ]
    }
   ],
   "source": [
    "import numpy as np\n",
    "import pandas as pd\n",
    "\n",
    "data = pd.read_csv(\"Diabetes.csv\")\n",
    "\n",
    "X = data.iloc[:,0:8].to_numpy()\n",
    "y = data.iloc[:,8].to_numpy()\n",
    "\n",
    "print(\"X:\",X.shape)\n",
    "print(X[0:4,:])\n",
    "\n",
    "print(\"\\ny:\",y.shape)\n",
    "print(y[1:100])"
   ]
  },
  {
   "cell_type": "markdown",
   "metadata": {},
   "source": [
    "#### Logistic Regression分类预测\n",
    "\n",
    "**分类正确率**\n",
    "$$ \\text{分类正确率} = \\frac{\\text{正确分类样本数}}{\\text{总样本数}} $$"
   ]
  },
  {
   "cell_type": "code",
   "execution_count": 12,
   "metadata": {},
   "outputs": [
    {
     "name": "stdout",
     "output_type": "stream",
     "text": [
      "y == predict_y:\n",
      "[ True  True  True  True  True  True False False  True False  True  True\n",
      " False  True  True False False False  True False  True  True  True False\n",
      "  True False  True  True False  True  True  True  True  True  True  True\n",
      " False False False  True False False  True  True False  True  True  True\n",
      " False  True  True  True  True  True False  True  True  True False  True\n",
      "  True  True  True  True False  True False  True  True  True False  True\n",
      "  True  True  True  True  True  True  True  True  True  True  True  True\n",
      "  True  True  True  True  True  True  True  True  True False  True  True\n",
      "  True  True  True False]\n",
      "Accuate rate: 0.7825520833333334\n"
     ]
    },
    {
     "name": "stderr",
     "output_type": "stream",
     "text": [
      "c:\\Users\\Administrator\\AppData\\Local\\Programs\\Python\\Python38\\lib\\site-packages\\sklearn\\linear_model\\_logistic.py:444: ConvergenceWarning: lbfgs failed to converge (status=1):\n",
      "STOP: TOTAL NO. of ITERATIONS REACHED LIMIT.\n",
      "\n",
      "Increase the number of iterations (max_iter) or scale the data as shown in:\n",
      "    https://scikit-learn.org/stable/modules/preprocessing.html\n",
      "Please also refer to the documentation for alternative solver options:\n",
      "    https://scikit-learn.org/stable/modules/linear_model.html#logistic-regression\n",
      "  n_iter_i = _check_optimize_result(\n"
     ]
    }
   ],
   "source": [
    "from sklearn.linear_model import LogisticRegression\n",
    "\n",
    "CLF = LogisticRegression().fit(X, y)\n",
    "predict_y = CLF.predict(X)\n",
    "\n",
    "print(\"y == predict_y:\")\n",
    "print((y==predict_y)[0:100])\n",
    "\n",
    "print(\"Accuate rate:\", CLF.score(X,y))"
   ]
  }
 ],
 "metadata": {
  "kernelspec": {
   "display_name": "Python 3.8.7 64-bit",
   "language": "python",
   "name": "python3"
  },
  "language_info": {
   "codemirror_mode": {
    "name": "ipython",
    "version": 3
   },
   "file_extension": ".py",
   "mimetype": "text/x-python",
   "name": "python",
   "nbconvert_exporter": "python",
   "pygments_lexer": "ipython3",
   "version": "3.8.7"
  },
  "orig_nbformat": 4,
  "vscode": {
   "interpreter": {
    "hash": "e0144baad0ecee903f108a3e46e51ceadd7da3fc904cfa79747d813b61464b4e"
   }
  }
 },
 "nbformat": 4,
 "nbformat_minor": 2
}
