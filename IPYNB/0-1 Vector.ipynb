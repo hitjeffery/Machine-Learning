{
 "cells": [
  {
   "cell_type": "markdown",
   "metadata": {},
   "source": [
    "#### 向量\n",
    "\n",
    "+ 定义列向量\n",
    "+ 显示列向量和列向量的转置"
   ]
  },
  {
   "cell_type": "code",
   "execution_count": 15,
   "metadata": {},
   "outputs": [
    {
     "name": "stdout",
     "output_type": "stream",
     "text": [
      "Vector a:\n",
      " [[1]\n",
      " [2]\n",
      " [3]\n",
      " [4]\n",
      " [5]]\n",
      "\n",
      "Transpose of a: [[1 2 3 4 5]]\n"
     ]
    }
   ],
   "source": [
    "import numpy as np\n",
    "\n",
    "a = np.array([[1],[2],[3],[4],[5]])\n",
    "\n",
    "print(\"Vector a:\\n\", a)\n",
    "print(\"\\nTranspose of a:\", a.T)"
   ]
  },
  {
   "cell_type": "markdown",
   "metadata": {},
   "source": [
    "**向量加法和数乘**"
   ]
  },
  {
   "cell_type": "code",
   "execution_count": 37,
   "metadata": {},
   "outputs": [
    {
     "name": "stdout",
     "output_type": "stream",
     "text": [
      "a+b: [6 6 6 6 6]\n",
      "scalar multiplication: [ 3  6  9 12 15]\n"
     ]
    }
   ],
   "source": [
    "a = np.array([1,2,3,4,5])\n",
    "b = np.array([5,4,3,2,1])\n",
    "alpha = 3\n",
    "\n",
    "print(\"a+b:\", a+b)\n",
    "print(\"scalar multiplication:\", alpha*a)"
   ]
  },
  {
   "cell_type": "code",
   "execution_count": 38,
   "metadata": {},
   "outputs": [
    {
     "name": "stdout",
     "output_type": "stream",
     "text": [
      "a: [1 2 3 4 5]\n",
      "b: [5 4 3 2 1]\n",
      "\n",
      "a*b: [5 8 9 8 5]\n",
      "\n",
      "Inner product: 35\n",
      "Angle: 50.47880364135783\n"
     ]
    }
   ],
   "source": [
    "print(\"a:\", a)\n",
    "print(\"b:\", b)\n",
    "\n",
    "print(\"\\na*b:\", a*b)\n",
    "print(\"\\nInner product:\", np.matmul(a, b.T))\n",
    "\n",
    "theta = np.arccos(np.matmul(a, b.T) / (np.linalg.norm(a)*np.linalg.norm(b)))\n",
    "print(\"Angle:\", theta/np.pi*180)"
   ]
  }
 ],
 "metadata": {
  "kernelspec": {
   "display_name": "Python 3.8.7 64-bit",
   "language": "python",
   "name": "python3"
  },
  "language_info": {
   "codemirror_mode": {
    "name": "ipython",
    "version": 3
   },
   "file_extension": ".py",
   "mimetype": "text/x-python",
   "name": "python",
   "nbconvert_exporter": "python",
   "pygments_lexer": "ipython3",
   "version": "3.8.7"
  },
  "orig_nbformat": 4,
  "vscode": {
   "interpreter": {
    "hash": "e0144baad0ecee903f108a3e46e51ceadd7da3fc904cfa79747d813b61464b4e"
   }
  }
 },
 "nbformat": 4,
 "nbformat_minor": 2
}
